{
 "cells": [
  {
   "cell_type": "markdown",
   "metadata": {},
   "source": [
    "# Macroeconomic default modelling - a Machine Learning approach\n",
    "\n",
    "### PART 2"
   ]
  },
  {
   "cell_type": "markdown",
   "metadata": {},
   "source": [
    "### Outline of the script(s)\n",
    "- Creating the Analytic Base Table (ABT) + Exploratory Data Analysis _(0 ABT.ipynb)_\n",
    "\n",
    "\n",
    "__ Preprocessing the Dataset__  _(This Notebook)_\n",
    "\n",
    "\n",
    "- Modelling part   _(2a R models.ipynb)_"
   ]
  },
  {
   "cell_type": "markdown",
   "metadata": {},
   "source": [
    "### 1. First, let's load (and install where neccessary) the packages that we are using"
   ]
  },
  {
   "cell_type": "code",
   "execution_count": 108,
   "metadata": {},
   "outputs": [],
   "source": [
    "### Load packages (and install the ones missing)\n",
    "suppressMessages(if (!require(\"pacman\")) install.packages(\"pacman\", repos = \"http://cran.us.r-project.org\"))\n",
    "pacman::p_load(\"readxl\",\"Hmisc\",\"mice\",\n",
    "                                \"VIM\",\"car\",\"Amelia\",\"IRdisplay\",\n",
    "                                \"ggplot2\", \"dplyr\", \"caret\", \"broom\",\n",
    "                                \"tibble\",\"labeling\", \"digest\", \"tseries\", \n",
    "                                \"mombf\", \"robustbase\",\"forecast\", \"caTools\",\n",
    "                                \"mlbench\", \"party\", \"psych\",\"Boruta\", \"astsa\",\n",
    "                                \"nortest\", \"normtest\", \"e1071\", \"prophet\",\n",
    "                                \"tibble\",\"labeling\", \"digest\", \"tseries\", \n",
    "                                \"mombf\", \"robustbase\",\"forecast\", \"caTools\",\n",
    "                                \"mlbench\", \"party\", \"rpart\", \"e1071\", \"cluster\",\n",
    "                                \"randomForest\", \"gbm\", \"xgboost\", \"h2o\", \"timetk\",\n",
    "                                \"tidyquant\", \"nnet\", \"dataPreparation\", \"imputeTS\")#add more packages here if needed! #\"imputeTS\"\n",
    "#install_github(\"SteffenMoritz/imputeTS\")#run if needed"
   ]
  },
  {
   "cell_type": "markdown",
   "metadata": {},
   "source": [
    "### 2. Let's load in our ABT"
   ]
  },
  {
   "cell_type": "code",
   "execution_count": 109,
   "metadata": {},
   "outputs": [],
   "source": [
    "document_name = \"ABT.csv\"\n",
    "file_location=paste(getwd(),\"/\", document_name, sep= \"\")\n",
    "\n",
    "ABT <- read.csv(file_location, stringsAsFactors = FALSE)\n",
    "ABT <- as.data.frame(ABT)\n",
    "ABT$Date = as.Date(as.character(ABT$Date), \"%Y-%m-%d\")"
   ]
  },
  {
   "cell_type": "code",
   "execution_count": 110,
   "metadata": {},
   "outputs": [
    {
     "data": {
      "text/html": [
       "<table>\n",
       "<thead><tr><th scope=col>Date</th><th scope=col>pre_34_CRPh_L.Ratings</th><th scope=col>pre_35_CRPh_A.Ratings</th><th scope=col>pre_36_CRPh_AR_Z_.1Q.</th><th scope=col>pre_37_CRPh_AR_N_.1Q.</th><th scope=col>pre_38_CRPh_AR_.1Q.</th><th scope=col>pre_39_CRPh_AR_Z_.1J.</th><th scope=col>pre_40_CRPh_AR_N_.1J.</th><th scope=col>pre_41_CRPh_AR_.1J.</th><th scope=col>pre_42_CRPh_PD</th><th scope=col>...</th><th scope=col>pre_622_EU_IND_PROD_VOLA</th><th scope=col>pre_623_D_LABPROD_USD</th><th scope=col>pre_646_EUR_Gross_Invest</th><th scope=col>pre_647_GER_Gross_Invest</th><th scope=col>pre_648_CBOEVIX</th><th scope=col>pre_651_BBJPY1W</th><th scope=col>pre_654_BBJPY6M</th><th scope=col>pre_658_TRJP30T</th><th scope=col>pre_660_TRJP2YT</th><th scope=col>pre_662_ESGBOND.</th></tr></thead>\n",
       "<tbody>\n",
       "\t<tr><td>2016-06-30 </td><td>506        </td><td> 0         </td><td> 0         </td><td>506.8791   </td><td>0.000000000</td><td> 4         </td><td>506.0685   </td><td>0.007904068</td><td>0.01528634 </td><td>...        </td><td>104.6      </td><td>103.1000   </td><td>104.1      </td><td>104.4000   </td><td>14.77      </td><td>-0.06200   </td><td>-0.00950   </td><td>0.142      </td><td>-0.298     </td><td>0.0148     </td></tr>\n",
       "\t<tr><td>2016-05-31 </td><td> NA        </td><td>NA         </td><td>NA         </td><td>      NA   </td><td>         NA</td><td>NA         </td><td>      NA   </td><td>         NA</td><td>        NA </td><td>...        </td><td>103.9      </td><td>103.0444   </td><td>103.5      </td><td>105.1667   </td><td>14.20      </td><td>-0.02557   </td><td>-0.00507   </td><td>0.299      </td><td>-0.236     </td><td>0.0157     </td></tr>\n",
       "\t<tr><td>2016-04-30 </td><td> NA        </td><td>NA         </td><td>NA         </td><td>      NA   </td><td>         NA</td><td>NA         </td><td>      NA   </td><td>         NA</td><td>        NA </td><td>...        </td><td>105.3      </td><td>102.9889   </td><td>102.9      </td><td>105.9333   </td><td>14.68      </td><td>-0.03414   </td><td> 0.00586   </td><td>0.346      </td><td>-0.233     </td><td>0.0153     </td></tr>\n",
       "\t<tr><td>2016-03-31 </td><td>519        </td><td> 1         </td><td> 1         </td><td>518.2857   </td><td>0.001929438</td><td> 3         </td><td>503.9315   </td><td>0.005953190</td><td>0.01541704 </td><td>...        </td><td>103.8      </td><td>102.9333   </td><td>102.3      </td><td>106.7000   </td><td>13.10      </td><td>-0.07529   </td><td> 0.02350   </td><td>0.542      </td><td>-0.207     </td><td>0.0154     </td></tr>\n",
       "\t<tr><td>2016-02-29 </td><td> NA        </td><td>NA         </td><td>NA         </td><td>      NA   </td><td>         NA</td><td>NA         </td><td>      NA   </td><td>         NA</td><td>        NA </td><td>...        </td><td>104.4      </td><td>102.6000   </td><td>102.5      </td><td>106.3000   </td><td>17.70      </td><td>-0.05300   </td><td>-0.00629   </td><td>0.860      </td><td>-0.232     </td><td>0.0172     </td></tr>\n",
       "</tbody>\n",
       "</table>\n"
      ],
      "text/latex": [
       "\\begin{tabular}{r|lllllllllllllllllllllllllllllllllllllllllllllllllllllllllllllllllllllllllllllllllllllll}\n",
       " Date & pre\\_34\\_CRPh\\_L.Ratings & pre\\_35\\_CRPh\\_A.Ratings & pre\\_36\\_CRPh\\_AR\\_Z\\_.1Q. & pre\\_37\\_CRPh\\_AR\\_N\\_.1Q. & pre\\_38\\_CRPh\\_AR\\_.1Q. & pre\\_39\\_CRPh\\_AR\\_Z\\_.1J. & pre\\_40\\_CRPh\\_AR\\_N\\_.1J. & pre\\_41\\_CRPh\\_AR\\_.1J. & pre\\_42\\_CRPh\\_PD & ... & pre\\_622\\_EU\\_IND\\_PROD\\_VOLA & pre\\_623\\_D\\_LABPROD\\_USD & pre\\_646\\_EUR\\_Gross\\_Invest & pre\\_647\\_GER\\_Gross\\_Invest & pre\\_648\\_CBOEVIX & pre\\_651\\_BBJPY1W & pre\\_654\\_BBJPY6M & pre\\_658\\_TRJP30T & pre\\_660\\_TRJP2YT & pre\\_662\\_ESGBOND.\\\\\n",
       "\\hline\n",
       "\t 2016-06-30  & 506         &  0          &  0          & 506.8791    & 0.000000000 &  4          & 506.0685    & 0.007904068 & 0.01528634  & ...         & 104.6       & 103.1000    & 104.1       & 104.4000    & 14.77       & -0.06200    & -0.00950    & 0.142       & -0.298      & 0.0148     \\\\\n",
       "\t 2016-05-31  &  NA         & NA          & NA          &       NA    &          NA & NA          &       NA    &          NA &         NA  & ...         & 103.9       & 103.0444    & 103.5       & 105.1667    & 14.20       & -0.02557    & -0.00507    & 0.299       & -0.236      & 0.0157     \\\\\n",
       "\t 2016-04-30  &  NA         & NA          & NA          &       NA    &          NA & NA          &       NA    &          NA &         NA  & ...         & 105.3       & 102.9889    & 102.9       & 105.9333    & 14.68       & -0.03414    &  0.00586    & 0.346       & -0.233      & 0.0153     \\\\\n",
       "\t 2016-03-31  & 519         &  1          &  1          & 518.2857    & 0.001929438 &  3          & 503.9315    & 0.005953190 & 0.01541704  & ...         & 103.8       & 102.9333    & 102.3       & 106.7000    & 13.10       & -0.07529    &  0.02350    & 0.542       & -0.207      & 0.0154     \\\\\n",
       "\t 2016-02-29  &  NA         & NA          & NA          &       NA    &          NA & NA          &       NA    &          NA &         NA  & ...         & 104.4       & 102.6000    & 102.5       & 106.3000    & 17.70       & -0.05300    & -0.00629    & 0.860       & -0.232      & 0.0172     \\\\\n",
       "\\end{tabular}\n"
      ],
      "text/markdown": [
       "\n",
       "Date | pre_34_CRPh_L.Ratings | pre_35_CRPh_A.Ratings | pre_36_CRPh_AR_Z_.1Q. | pre_37_CRPh_AR_N_.1Q. | pre_38_CRPh_AR_.1Q. | pre_39_CRPh_AR_Z_.1J. | pre_40_CRPh_AR_N_.1J. | pre_41_CRPh_AR_.1J. | pre_42_CRPh_PD | ... | pre_622_EU_IND_PROD_VOLA | pre_623_D_LABPROD_USD | pre_646_EUR_Gross_Invest | pre_647_GER_Gross_Invest | pre_648_CBOEVIX | pre_651_BBJPY1W | pre_654_BBJPY6M | pre_658_TRJP30T | pre_660_TRJP2YT | pre_662_ESGBOND. | \n",
       "|---|---|---|---|---|\n",
       "| 2016-06-30  | 506         |  0          |  0          | 506.8791    | 0.000000000 |  4          | 506.0685    | 0.007904068 | 0.01528634  | ...         | 104.6       | 103.1000    | 104.1       | 104.4000    | 14.77       | -0.06200    | -0.00950    | 0.142       | -0.298      | 0.0148      | \n",
       "| 2016-05-31  |  NA         | NA          | NA          |       NA    |          NA | NA          |       NA    |          NA |         NA  | ...         | 103.9       | 103.0444    | 103.5       | 105.1667    | 14.20       | -0.02557    | -0.00507    | 0.299       | -0.236      | 0.0157      | \n",
       "| 2016-04-30  |  NA         | NA          | NA          |       NA    |          NA | NA          |       NA    |          NA |         NA  | ...         | 105.3       | 102.9889    | 102.9       | 105.9333    | 14.68       | -0.03414    |  0.00586    | 0.346       | -0.233      | 0.0153      | \n",
       "| 2016-03-31  | 519         |  1          |  1          | 518.2857    | 0.001929438 |  3          | 503.9315    | 0.005953190 | 0.01541704  | ...         | 103.8       | 102.9333    | 102.3       | 106.7000    | 13.10       | -0.07529    |  0.02350    | 0.542       | -0.207      | 0.0154      | \n",
       "| 2016-02-29  |  NA         | NA          | NA          |       NA    |          NA | NA          |       NA    |          NA |         NA  | ...         | 104.4       | 102.6000    | 102.5       | 106.3000    | 17.70       | -0.05300    | -0.00629    | 0.860       | -0.232      | 0.0172      | \n",
       "\n",
       "\n"
      ],
      "text/plain": [
       "  Date       pre_34_CRPh_L.Ratings pre_35_CRPh_A.Ratings pre_36_CRPh_AR_Z_.1Q.\n",
       "1 2016-06-30 506                    0                     0                   \n",
       "2 2016-05-31  NA                   NA                    NA                   \n",
       "3 2016-04-30  NA                   NA                    NA                   \n",
       "4 2016-03-31 519                    1                     1                   \n",
       "5 2016-02-29  NA                   NA                    NA                   \n",
       "  pre_37_CRPh_AR_N_.1Q. pre_38_CRPh_AR_.1Q. pre_39_CRPh_AR_Z_.1J.\n",
       "1 506.8791              0.000000000          4                   \n",
       "2       NA                       NA         NA                   \n",
       "3       NA                       NA         NA                   \n",
       "4 518.2857              0.001929438          3                   \n",
       "5       NA                       NA         NA                   \n",
       "  pre_40_CRPh_AR_N_.1J. pre_41_CRPh_AR_.1J. pre_42_CRPh_PD ...\n",
       "1 506.0685              0.007904068         0.01528634     ...\n",
       "2       NA                       NA                 NA     ...\n",
       "3       NA                       NA                 NA     ...\n",
       "4 503.9315              0.005953190         0.01541704     ...\n",
       "5       NA                       NA                 NA     ...\n",
       "  pre_622_EU_IND_PROD_VOLA pre_623_D_LABPROD_USD pre_646_EUR_Gross_Invest\n",
       "1 104.6                    103.1000              104.1                   \n",
       "2 103.9                    103.0444              103.5                   \n",
       "3 105.3                    102.9889              102.9                   \n",
       "4 103.8                    102.9333              102.3                   \n",
       "5 104.4                    102.6000              102.5                   \n",
       "  pre_647_GER_Gross_Invest pre_648_CBOEVIX pre_651_BBJPY1W pre_654_BBJPY6M\n",
       "1 104.4000                 14.77           -0.06200        -0.00950       \n",
       "2 105.1667                 14.20           -0.02557        -0.00507       \n",
       "3 105.9333                 14.68           -0.03414         0.00586       \n",
       "4 106.7000                 13.10           -0.07529         0.02350       \n",
       "5 106.3000                 17.70           -0.05300        -0.00629       \n",
       "  pre_658_TRJP30T pre_660_TRJP2YT pre_662_ESGBOND.\n",
       "1 0.142           -0.298          0.0148          \n",
       "2 0.299           -0.236          0.0157          \n",
       "3 0.346           -0.233          0.0153          \n",
       "4 0.542           -0.207          0.0154          \n",
       "5 0.860           -0.232          0.0172          "
      ]
     },
     "metadata": {},
     "output_type": "display_data"
    },
    {
     "name": "stdout",
     "output_type": "stream",
     "text": [
      "Number of columns of our clean ABT: 87 \n",
      "Number of rows of our clean ABT: 106"
     ]
    }
   ],
   "source": [
    "#short inspection\n",
    "head(ABT,5)\n",
    "\n",
    "cat(\"Number of columns of our clean ABT:\", ncol(ABT),\"\\n\")\n",
    "cat(\"Number of rows of our clean ABT:\", nrow(ABT))"
   ]
  },
  {
   "cell_type": "markdown",
   "metadata": {},
   "source": [
    "## Before we proceed any further we must split the dataset into train and test set\n",
    "\n",
    "- A training dataset is a dataset of examples used for learning, that is to fit the parameters\n",
    "\n",
    "\n",
    "- A test set is therefore a set of examples used only to assess the performance (i.e. generalization) of a fully specified model.\n",
    "\n",
    "\n",
    "- In general, to avoid introducing a bias in test using train-data, the train-test split should be performed before (most) data preparation steps.\n",
    "\n",
    "\n",
    "- To simulate a train and test set we are going to split randomly this data set into __66% train__ and __34% test__"
   ]
  },
  {
   "cell_type": "code",
   "execution_count": 111,
   "metadata": {},
   "outputs": [
    {
     "data": {},
     "metadata": {},
     "output_type": "display_data"
    },
    {
     "data": {
      "image/png": "[encoded data removed]",
      "text/plain": [
       "plot without title"
      ]
     },
     "metadata": {},
     "output_type": "display_data"
    }
   ],
   "source": [
    "# For Delta-Logit-PD first\n",
    "ABT %>%\n",
    "    select(Date, pre_44_CRPh_delta_LogitPD)%>%\n",
    "    na.omit()%>%\n",
    "    ggplot(aes(Date, pre_44_CRPh_delta_LogitPD))+\n",
    "# Train Region\n",
    "    geom_rect(xmin = as.numeric(ymd(\"2007-10-01\")),\n",
    "              xmax = as.numeric(ymd(\"2013-03-31\")),\n",
    "              ymin = -1, ymax = Inf, alpha = 0.02,\n",
    "             fill = palette_light()[[9]])+\n",
    "    annotate(\"text\", x = ymd(\"2010-06-01\"), y = 0.75,\n",
    "             color = palette_light()[[1]], label = \"Train Region\")+\n",
    "# Validation Region\n",
    "   # geom_rect(xmin = as.numeric(ymd(\"2011-01-01\")), \n",
    "    #          xmax = as.numeric(ymd(\"2013-12-31\")),\n",
    "     #         ymin = -1, ymax = Inf, alpha = 0.02,\n",
    "      #        fill = palette_light()[[3]])+\n",
    "    #annotate(\"text\", x = ymd(\"2012-06-01\"), y = 0.75,\n",
    "     #        color = palette_light()[[1]], label = \"Validation\\n Region\")+\n",
    "# Test Region\n",
    "    geom_rect(xmin = as.numeric(ymd(\"2013-04-01\")), \n",
    "              xmax = as.numeric(ymd(\"2016-06-30\")),\n",
    "              ymin = -1, ymax = Inf, alpha = 0.02,\n",
    "              fill = palette_light()[[7]]) +\n",
    "    annotate(\"text\", x = ymd(\"2014-08-31\"), y = 0.75,\n",
    "     color = palette_light()[[1]], label = \"Test Region\") +\n",
    "# Data\n",
    "    geom_line(col = palette_light()[1]) +\n",
    "    geom_point(col = palette_light()[1]) +\n",
    "    #geom_ma(ma_fun = SMA, n = 4, size = 1) +\n",
    "# Aesthetics\n",
    "    #theme_tq() +\n",
    "    scale_x_date(date_breaks = \"1 year\", date_labels = \"%Y\") +\n",
    "    labs(title = \"Delta Logit PD: 2007 Q3 through 2016 Q3\",\n",
    "         subtitle = \"Train and Test Sets Shown\") "
   ]
  },
  {
   "cell_type": "markdown",
   "metadata": {},
   "source": [
    "### Similarly for Delta-Logit-AR:"
   ]
  },
  {
   "cell_type": "code",
   "execution_count": 112,
   "metadata": {},
   "outputs": [
    {
     "data": {},
     "metadata": {},
     "output_type": "display_data"
    },
    {
     "data": {
      "image/png": "[encoded data removed]",
      "text/plain": [
       "plot without title"
      ]
     },
     "metadata": {},
     "output_type": "display_data"
    }
   ],
   "source": [
    "ABT %>%\n",
    "    select(Date, pre_46_CRPh_delta_LogitAR_.1J.)%>%\n",
    "    na.omit()%>%\n",
    "    ggplot(aes(Date, pre_46_CRPh_delta_LogitAR_.1J.))+\n",
    "# Train Region\n",
    "    geom_rect(xmin = as.numeric(ymd(\"2007-10-01\")),\n",
    "              xmax = as.numeric(ymd(\"2013-03-31\")),\n",
    "              ymin = -1.25, ymax = Inf, alpha = 0.02,\n",
    "             fill = palette_light()[[9]])+\n",
    "    annotate(\"text\", x = ymd(\"2010-06-01\"), y = 1,\n",
    "             color = palette_light()[[1]], label = \"Train Region\")+\n",
    "# Validation Region\n",
    "   # geom_rect(xmin = as.numeric(ymd(\"2011-01-01\")), \n",
    "    #          xmax = as.numeric(ymd(\"2013-12-31\")),\n",
    "     #         ymin = -1, ymax = Inf, alpha = 0.02,\n",
    "      #        fill = palette_light()[[3]])+\n",
    "    #annotate(\"text\", x = ymd(\"2012-06-01\"), y = 0.75,\n",
    "     #        color = palette_light()[[1]], label = \"Validation\\n Region\")+\n",
    "# Test Region\n",
    "    geom_rect(xmin = as.numeric(ymd(\"2013-04-01\")), \n",
    "              xmax = as.numeric(ymd(\"2016-06-30\")),\n",
    "              ymin = -1.25, ymax = Inf, alpha = 0.02,\n",
    "              fill = palette_light()[[7]]) +\n",
    "    annotate(\"text\", x = ymd(\"2014-08-31\"), y = 1,\n",
    "     color = palette_light()[[1]], label = \"Test Region\") +\n",
    "# Data\n",
    "    geom_line(col = palette_light()[1]) +\n",
    "    geom_point(col = palette_light()[1]) +\n",
    "    #geom_ma(ma_fun = SMA, n = 4, size = 1) +\n",
    "# Aesthetics\n",
    "    #theme_tq() +\n",
    "    scale_x_date(date_breaks = \"1 year\", date_labels = \"%Y\") +\n",
    "    labs(title = \"Delta Logit AR: 2007 Q3 through 2016 Q3\",\n",
    "         subtitle = \"Train and Test Sets Shown\") "
   ]
  },
  {
   "cell_type": "markdown",
   "metadata": {},
   "source": [
    "### 3. Creating our ABT_train and ABT_test datasets\n",
    "\n",
    "- We chose a cutoff point at 2013-03-31, such that the balance between train and test ist 2:1\n",
    "\n",
    "\n",
    "- We will do two sets of predicitons:\n",
    "    - __Delta-Logit-PD__\n",
    "    - __Delta-Logit-AR__\n",
    "    \n",
    "where these two will be the respective target variable in each dataset"
   ]
  },
  {
   "cell_type": "code",
   "execution_count": 113,
   "metadata": {},
   "outputs": [
    {
     "name": "stdout",
     "output_type": "stream",
     "text": [
      "Number of rows in Train set 67 \n",
      "Number of rows in Test set 39 \n"
     ]
    }
   ],
   "source": [
    "cutoff_date = \"2013-03-31\"\n",
    "\n",
    "# Build ABT_train, ABT_test\n",
    "ABT_train <- ABT%>% filter(Date <= cutoff_date)\n",
    "ABT_test <- ABT%>% filter(Date > cutoff_date)\n",
    "\n",
    "cat(\"Number of rows in Train set\", nrow(ABT_train), \"\\n\")\n",
    "cat(\"Number of rows in Test set\", nrow(ABT_test), \"\\n\")"
   ]
  },
  {
   "cell_type": "code",
   "execution_count": 123,
   "metadata": {},
   "outputs": [],
   "source": [
    "# Delta-Logit-PD\n",
    "X_train_PD <- ABT_train%>%select(-contains(\"_CRPh_\"), -contains(\"Date\"))\n",
    "y_train_PD <- ABT_train$pre_44_CRPh_delta_LogitPD\n",
    "\n",
    "X_test_PD <- ABT_test%>%select(-contains(\"_CRPh_\"), -contains(\"Date\"))\n",
    "y_test_PD <- ABT_test$pre_44_CRPh_delta_LogitPD\n",
    "\n",
    "# Delta-Logit-AR\n",
    "\n",
    "X_train_AR <- ABT_train%>%select(-contains(\"_CRPh_\"), -contains(\"Date\"))\n",
    "y_train_AR <- ABT_train$pre_46_CRPh_delta_LogitAR_.1J.\n",
    "\n",
    "X_test_AR <- ABT_test%>%select(-contains(\"_CRPh_\"), -contains(\"Date\"))\n",
    "y_test_AR <- ABT_test$pre_46_CRPh_delta_LogitAR_.1J."
   ]
  },
  {
   "cell_type": "markdown",
   "metadata": {},
   "source": [
    "### 4.1 Time Series Missing Value Imputation of Train and Test set\n",
    "\n",
    "#### Imputation (replacement) of missing values in univariate time series.\n",
    "\n",
    "__Two options:__\n",
    "\n",
    "- Univariate time Series interpolation using spline/linear of stine \n",
    "\n",
    "\n",
    "- Missing Value Imputation by Kalman Smoothing\n",
    "\n",
    "\n",
    "- Of course other methods exist (Multiple Imputation using Chained equations), \n",
    "    - perhaps more suitable for our case, but harder to implement (also very slow)\n",
    "\n",
    "\n",
    "__which imputation method do you see to be most applicable to our situation?__\n"
   ]
  },
  {
   "cell_type": "code",
   "execution_count": 124,
   "metadata": {},
   "outputs": [],
   "source": [
    "#y_train_PD = na.interpolation(y_test_PD, option = \"spline\") #linear/stine\n",
    "y_train_PD = na.kalman(y_train_PD, model = \"StructTS\", smooth = TRUE, nit = -1)\n",
    "\n",
    "#y_train_AR = na.interpolation(y_test_PD, option = \"spline\") #linear/stine\n",
    "y_train_AR = na.kalman(y_train_AR, model = \"StructTS\", smooth = TRUE, nit = -1)\n",
    "\n",
    "#y_test_PD = na.interpolation(y_test_PD, option = \"spline\") #linear/stine\n",
    "y_test_PD = na.kalman(y_test_PD, model = \"StructTS\", smooth = TRUE, nit = -1)\n",
    "\n",
    "#y_test_AR = na.interpolation(y_test_PD, option = \"spline\") #linear/stine\n",
    "y_test_AR = na.kalman(y_test_AR, model = \"StructTS\", smooth = TRUE, nit = -1)"
   ]
  },
  {
   "cell_type": "markdown",
   "metadata": {},
   "source": [
    "### 4.2 Alternatively we can take linear and constant interpolation approach (for simplicity)\n",
    "\n",
    "- Missing Value Imputation by Interpolation (linear)\n",
    "\n",
    "\n",
    "- Missing Value Imputation by Last Observation Carried Forward (constant interpolation so to speak)"
   ]
  },
  {
   "cell_type": "code",
   "execution_count": 126,
   "metadata": {},
   "outputs": [
    {
     "data": {
      "text/html": [
       "TRUE"
      ],
      "text/latex": [
       "TRUE"
      ],
      "text/markdown": [
       "TRUE"
      ],
      "text/plain": [
       "[1] TRUE"
      ]
     },
     "metadata": {},
     "output_type": "display_data"
    },
    {
     "data": {
      "text/html": [
       "TRUE"
      ],
      "text/latex": [
       "TRUE"
      ],
      "text/markdown": [
       "TRUE"
      ],
      "text/plain": [
       "[1] TRUE"
      ]
     },
     "metadata": {},
     "output_type": "display_data"
    },
    {
     "data": {
      "image/png": "[encoded data removed]",
      "text/plain": [
       "Plot with title \"Interpolation on Delta-Logit-PD\""
      ]
     },
     "metadata": {},
     "output_type": "display_data"
    }
   ],
   "source": [
    "#linear method\n",
    "par(mfrow = c(2,2))\n",
    "x_date = ABT_train$Date\n",
    "x = 1:length(x_date)\n",
    "y = ABT_train$pre_44_CRPh_delta_LogitPD\n",
    "\n",
    "#Plot first graph\n",
    "plot(x, y, main = \"linear vs constant (train set)\", ylab = \"delta-logit-PD\", xlab = \"months\")\n",
    "points(approx(x, y), col = 2, pch = \"*\")\n",
    "points(approx(x, y, method = \"constant\"), col = 4, pch = \"*\")\n",
    "legend(x=\"topleft\", legend=c(\"linear\",\"constant\"), col=c(2,4), lty=c(0,0), pch=\"*\" ,cex=0.8)\n",
    "\n",
    "f <- approxfun(x, y)\n",
    "\n",
    "#Plot second graph\n",
    "curve(f(x), 0, length(x_date), col = \"green2\", main = \"connected points (train set)\",\n",
    "      ylab = \"delta-logit-PD\", xlab = \"months\")\n",
    "points(x, y)\n",
    "is.function(fc <- approxfun(x, y, method = \"const\")) # TRUE\n",
    "curve(fc(x), 0, length(x_date)-1, col = \"darkblue\", add = TRUE)\n",
    "\n",
    "## different extrapolation on left and right side :\n",
    "plot(approxfun(x, y, rule = 2:1), 0, 11,\n",
    "     col = \"tomato\", add = TRUE, lty = 3, lwd = 2)\n",
    "legend(\"topleft\", legend=c(\"linear\", \"constant\"),\n",
    "       col=c(\"green2\", \"darkblue\"), lty=c(1,1), cex=0.8)\n",
    "\n",
    "################################################################################################################################\n",
    "x_date = ABT_test$Date\n",
    "x = 1:length(x_date)\n",
    "y = ABT_test$pre_44_CRPh_delta_LogitPD\n",
    "\n",
    "#Plot first graph\n",
    "plot(x, y, main = \"linear vs constant (test set)\", ylab = \"delta-logit-PD\", xlab = \"months\")\n",
    "points(approx(x, y), col = 2, pch = \"*\")\n",
    "points(approx(x, y, method = \"constant\"), col = 4, pch = \"*\")\n",
    "legend(x=\"topleft\", legend=c(\"linear\",\"constant\"), col=c(2,4), lty=c(0,0), pch=\"*\" ,cex=0.8)\n",
    "\n",
    "f <- approxfun(x, y)\n",
    "\n",
    "#Plot second graph\n",
    "curve(f(x), 0, length(x_date), col = \"green2\", main = \"connected points (test set)\",\n",
    "      ylab = \"delta-logit-PD\", xlab = \"months\")\n",
    "points(x, y)\n",
    "is.function(fc <- approxfun(x, y, method = \"const\")) # TRUE\n",
    "curve(fc(x), 0, length(x_date)-1, col = \"darkblue\", add = TRUE)\n",
    "\n",
    "## different extrapolation on left and right side :\n",
    "plot(approxfun(x, y, rule = 2:1), 0, 11,\n",
    "     col = \"tomato\", add = TRUE, lty = 3, lwd = 2)\n",
    "legend(\"topleft\", legend=c(\"linear\", \"constant\"),\n",
    "       col=c(\"green2\", \"darkblue\"), lty=c(1,1), cex=0.8)\n",
    "\n",
    "title(main=\"Interpolation on Delta-Logit-PD\", outer = T, line = -1)"
   ]
  },
  {
   "cell_type": "code",
   "execution_count": 127,
   "metadata": {},
   "outputs": [
    {
     "data": {
      "text/html": [
       "TRUE"
      ],
      "text/latex": [
       "TRUE"
      ],
      "text/markdown": [
       "TRUE"
      ],
      "text/plain": [
       "[1] TRUE"
      ]
     },
     "metadata": {},
     "output_type": "display_data"
    },
    {
     "data": {
      "text/html": [
       "TRUE"
      ],
      "text/latex": [
       "TRUE"
      ],
      "text/markdown": [
       "TRUE"
      ],
      "text/plain": [
       "[1] TRUE"
      ]
     },
     "metadata": {},
     "output_type": "display_data"
    },
    {
     "data": {
      "image/png": "[encoded data removed]",
      "text/plain": [
       "Plot with title \"Interpolation on Delta-Logit-AR\""
      ]
     },
     "metadata": {},
     "output_type": "display_data"
    }
   ],
   "source": [
    "#linear method\n",
    "par(mfrow = c(2,2))\n",
    "x_date = ABT_train$Date\n",
    "x = 1:length(x_date)\n",
    "y = ABT_train$pre_46_CRPh_delta_LogitAR_.1J.\n",
    "\n",
    "#Plot first graph\n",
    "plot(x, y, main = \"linear vs constant (train set)\", ylab = \"delta-logit-AR\", xlab = \"months\")\n",
    "points(approx(x, y), col = 2, pch = \"*\")\n",
    "points(approx(x, y, method = \"constant\"), col = 4, pch = \"*\")\n",
    "legend(x=\"topleft\", legend=c(\"linear\",\"constant\"), col=c(2,4), lty=c(0,0), pch=\"*\" ,cex=0.8)\n",
    "\n",
    "f <- approxfun(x, y)\n",
    "\n",
    "#Plot second graph\n",
    "curve(f(x), 0, length(x_date), col = \"green2\", main = \"connected points (train set)\",\n",
    "      ylab = \"delta-logit-AR\", xlab = \"months\")\n",
    "points(x, y)\n",
    "is.function(fc <- approxfun(x, y, method = \"const\")) # TRUE\n",
    "curve(fc(x), 0, length(x_date)-1, col = \"darkblue\", add = TRUE)\n",
    "\n",
    "## different extrapolation on left and right side :\n",
    "plot(approxfun(x, y, rule = 2:1), 0, 11,\n",
    "     col = \"tomato\", add = TRUE, lty = 3, lwd = 2)\n",
    "legend(\"topleft\", legend=c(\"linear\", \"constant\"),\n",
    "       col=c(\"green2\", \"darkblue\"), lty=c(1,1), cex=0.8)\n",
    "\n",
    "################################################################################################################################\n",
    "x_date = ABT_test$Date\n",
    "x = 1:length(x_date)\n",
    "y = ABT_test$pre_46_CRPh_delta_LogitAR_.1J.\n",
    "\n",
    "#Plot first graph\n",
    "plot(x, y, main = \"linear vs constant (test set)\", ylab = \"delta-logit-AR\", xlab = \"months\")\n",
    "points(approx(x, y), col = 2, pch = \"*\")\n",
    "points(approx(x, y, method = \"constant\"), col = 4, pch = \"*\")\n",
    "legend(x=\"topleft\", legend=c(\"linear\",\"constant\"), col=c(2,4), lty=c(0,0), pch=\"*\" ,cex=0.8)\n",
    "\n",
    "f <- approxfun(x, y)\n",
    "\n",
    "#Plot second graph\n",
    "curve(f(x), 0, length(x_date), col = \"green2\", main = \"connected points (test set)\",\n",
    "      ylab = \"delta-logit-AR\", xlab = \"months\")\n",
    "points(x, y)\n",
    "is.function(fc <- approxfun(x, y, method = \"const\")) # TRUE\n",
    "curve(fc(x), 0, length(x_date)-1, col = \"darkblue\", add = TRUE)\n",
    "\n",
    "## different extrapolation on left and right side :\n",
    "plot(approxfun(x, y, rule = 2:1), 0, 11,\n",
    "     col = \"tomato\", add = TRUE, lty = 3, lwd = 2)\n",
    "legend(\"topleft\", legend=c(\"linear\", \"constant\"),\n",
    "       col=c(\"green2\", \"darkblue\"), lty=c(1,1), cex=0.8)\n",
    "\n",
    "title(main=\"Interpolation on Delta-Logit-AR\", outer = T, line = -1)"
   ]
  },
  {
   "cell_type": "markdown",
   "metadata": {},
   "source": [
    "### Conclusion: \n",
    "\n",
    "As we can see, the linear/last observation carried forward did not do so well regarding Delta-Logit-AR\n",
    "\n",
    "As a result we will take the Kalman interpolation"
   ]
  },
  {
   "cell_type": "markdown",
   "metadata": {},
   "source": [
    "### 5. Principal Component Analysis (PCA)"
   ]
  },
  {
   "cell_type": "markdown",
   "metadata": {},
   "source": [
    "### What is PCA?\n",
    "\n",
    "- method of extracting important variables (in form of components) from a large set of variables available in a data set. \n",
    "\n",
    "\n",
    "- It extracts low dimensional set of features from a high dimensional data set with a motive to capture as much information as possible. \n",
    "\n",
    "\n",
    "- With fewer variables, visualization also becomes much more meaningful.\n",
    "\n",
    "\n",
    "\n",
    "### The purpose of principal component analysis is to find:\n",
    "\n",
    "\n",
    "- the best low-dimensional representation of the variation in a multivariate data set\n",
    "\n",
    "\n",
    "### How is it done and what is the end result\n",
    "\n",
    "- It is always performed on a symmetric correlation or covariance matrix. This means the matrix should be numeric and have standardized data.\n",
    "\n",
    "\n",
    "- It is done via linear transformation of the data as well as orthogonal projection\n",
    "\n",
    "\n",
    "- As a result, all principle components are orthogonal to one another\n"
   ]
  },
  {
   "cell_type": "markdown",
   "metadata": {},
   "source": [
    "Let’s say we have a data set of dimension $100 × 50$. I.e  50 predictors. Since we have a large $p = 50$, there can be $\\frac{p(p-1)}{2}$ scatter plots i.e more than 1000 plots possible to analyze the variable relationship. Wouldn’t is be a tedious job to perform exploratory analysis on this data ?\n",
    "\n",
    "In this case, it would be a lucid approach to select a subset of $p$ $ (p << 50)$ predictor which captures as much information."
   ]
  },
  {
   "cell_type": "code",
   "execution_count": 128,
   "metadata": {},
   "outputs": [
    {
     "data": {
      "image/png": "[encoded data removed]"
     },
     "metadata": {},
     "output_type": "display_data"
    }
   ],
   "source": [
    "#The image below shows the transformation of a high dimensional data (3 dimension) to low dimensional data (2 dimension)\n",
    "#using PCA. Not to forget, each resultant dimension is a linear combination of p features\n",
    "\n",
    "document_name = \"PCA_1.png\"\n",
    "file_location=paste(getwd(),\"/\", document_name, sep= \"\")\n",
    "\n",
    "display_png(file=file_location)  "
   ]
  },
  {
   "cell_type": "markdown",
   "metadata": {},
   "source": [
    "## What are principal components ?"
   ]
  },
  {
   "cell_type": "markdown",
   "metadata": {},
   "source": [
    "A principal component is a normalized linear combination of the original predictors in a data set. In image above, PC1 and PC2 are the principal components. Let’s say we have a set of predictors as \n",
    "\n",
    "$$X^1, X^2, \\ldots, X^p$$\n",
    "\n",
    "The 1st principal component can be written as:\n",
    "\n",
    "$$ Z^1 = \\theta ^{11}\\cdot X^1 + \\theta ^{21}\\cdot X^2 + \\ldots + \\theta ^{p1} \\cdot X^p$$\n",
    "\n",
    "where: \n",
    "\n",
    "__where,__\n",
    "\n",
    "- $Z^1$ is first principal component\n",
    "\n",
    "\n",
    "- $\\theta^{p1}$ is the loading vector comprising of loadings $(\\theta ^1, \\theta ^2 \\ldots)$ of the first principal component. \n",
    "\n",
    "\n",
    "- The loadings are constrained to a sum of square equals to 1. This is because large magnitude of loadings may lead to large variance. \n",
    "\n",
    "\n",
    "- It also defines the direction of the principal component $(Z^1)$ along which data varies the most. \n",
    "\n",
    "\n",
    "- It results in a line in $p$ dimensional space which is closest to the n observations. Closeness is measured using average squared euclidean distance.\n",
    "\n",
    "\n",
    "- $X^1 \\ldots X^p$ are normalized predictors. Normalized predictors have mean equals to zero and standard deviation equals to one.\n",
    "\n",
    "\n",
    "__Therefore,__\n",
    "\n",
    "First principal component is a linear combination of original predictor variables which captures the maximum variance in the data set. It determines the direction of highest variability in the data. Larger the variability captured in first component, larger the information captured by component. No other component can have variability higher than first principal component.\n",
    "\n",
    "The first principal component results in a line which is closest to the data i.e. it minimizes the sum of squared distance between a data point and the line.\n",
    "\n",
    "Similarly, we can compute the second principal component also:\n",
    "\n",
    "\n",
    "The Second principal component $(Z^2)$ is also a linear combination of original predictors which captures the remaining variance in the data set and is uncorrelated with $Z^1$. \n",
    "In other words, the correlation between first and second component should be zero. It can be represented as:\n",
    "\n",
    "$$Z^2 = \\theta ^{12}\\cdot X^1 + \\theta ^{22}\\cdot X^2 + \\ldots + \\theta ^{p2} \\cdot X^p$$\n",
    "\n"
   ]
  },
  {
   "cell_type": "code",
   "execution_count": 129,
   "metadata": {},
   "outputs": [
    {
     "data": {
      "image/png": "[encoded data removed]"
     },
     "metadata": {},
     "output_type": "display_data"
    }
   ],
   "source": [
    "#If the two components are uncorrelated, their directions should be orthogonal (image below). \n",
    "#This image is based on a simulated data with 2 predictors. Notice the direction of the components, \n",
    "#as expected they are orthogonal. This suggests the correlation b/w these components in zero.\n",
    "\n",
    "document_name = \"PCA_2.png\"\n",
    "file_location=paste(getwd(),\"/\", document_name, sep= \"\")\n",
    "\n",
    "display_png(file=file_location)  "
   ]
  },
  {
   "cell_type": "markdown",
   "metadata": {},
   "source": [
    "All succeeding principal component follows a similar concept i.e. they capture the remaining variation without being correlated with the previous component. In general, for n × p dimensional data, min(n-1, p) principal component can be constructed."
   ]
  },
  {
   "cell_type": "code",
   "execution_count": 130,
   "metadata": {
    "scrolled": true
   },
   "outputs": [],
   "source": [
    "#To carry out a principal component analysis (PCA) on a multivariate data set, the first step is often to standardise\n",
    "#the variables under study using the “scale()” function (see above). This is necessary if the input variables have\n",
    "#very different variances\n",
    "prin_comp_PD <- prcomp(X_train_PD, scale. = T)\n",
    "prin_comp_AR <- prcomp(X_train_AR, scale. = T) "
   ]
  },
  {
   "cell_type": "code",
   "execution_count": 131,
   "metadata": {},
   "outputs": [
    {
     "data": {
      "text/html": [
       "<table>\n",
       "<thead><tr><th></th><th scope=col>PC1</th><th scope=col>PC2</th><th scope=col>PC3</th><th scope=col>PC4</th></tr></thead>\n",
       "<tbody>\n",
       "\t<tr><th scope=row>pre_167_BBUSD6M</th><td>-0.170958791</td><td>-0.05381461 </td><td>-0.01872900 </td><td>-0.17141433 </td></tr>\n",
       "\t<tr><th scope=row>pre_173_FRTBS3M</th><td>-0.147724454</td><td>-0.11979444 </td><td> 0.05600671 </td><td>-0.13131203 </td></tr>\n",
       "\t<tr><th scope=row>pre_278_ICCHF30</th><td>-0.180423932</td><td>-0.01060881 </td><td> 0.06401908 </td><td> 0.10738920 </td></tr>\n",
       "\t<tr><th scope=row>pre_279_Spread_Corporates_AAA_1.3</th><td>-0.090916359</td><td> 0.17504608 </td><td>-0.08359415 </td><td>-0.04295332 </td></tr>\n",
       "\t<tr><th scope=row>pre_281_Spread_Corporates_A_1.3_</th><td>-0.014311137</td><td> 0.22611179 </td><td>-0.06440777 </td><td>-0.14564564 </td></tr>\n",
       "\t<tr><th scope=row>pre_283_Spread_Corporates_AAA_3.5</th><td>-0.006581508</td><td> 0.14390610 </td><td>-0.15557496 </td><td>-0.16330284 </td></tr>\n",
       "\t<tr><th scope=row>pre_291_Spread_Corporates_AAA_7.10</th><td>-0.047081607</td><td> 0.19456134 </td><td>-0.06950488 </td><td>-0.09023502 </td></tr>\n",
       "\t<tr><th scope=row>pre_315_IBEFSUB.RI.</th><td> 0.116878322</td><td>-0.17323167 </td><td> 0.02168852 </td><td> 0.09914488 </td></tr>\n",
       "\t<tr><th scope=row>pre_321_USECBSP</th><td>-0.122147066</td><td>-0.07720514 </td><td> 0.09155707 </td><td> 0.12949774 </td></tr>\n",
       "\t<tr><th scope=row>pre_322_JPECBSP</th><td>-0.173553586</td><td>-0.04056829 </td><td> 0.08749139 </td><td> 0.04215959 </td></tr>\n",
       "</tbody>\n",
       "</table>\n"
      ],
      "text/latex": [
       "\\begin{tabular}{r|llll}\n",
       "  & PC1 & PC2 & PC3 & PC4\\\\\n",
       "\\hline\n",
       "\tpre\\_167\\_BBUSD6M & -0.170958791 & -0.05381461  & -0.01872900  & -0.17141433 \\\\\n",
       "\tpre\\_173\\_FRTBS3M & -0.147724454 & -0.11979444  &  0.05600671  & -0.13131203 \\\\\n",
       "\tpre\\_278\\_ICCHF30 & -0.180423932 & -0.01060881  &  0.06401908  &  0.10738920 \\\\\n",
       "\tpre\\_279\\_Spread\\_Corporates\\_AAA\\_1.3 & -0.090916359 &  0.17504608  & -0.08359415  & -0.04295332 \\\\\n",
       "\tpre\\_281\\_Spread\\_Corporates\\_A\\_1.3\\_ & -0.014311137 &  0.22611179  & -0.06440777  & -0.14564564 \\\\\n",
       "\tpre\\_283\\_Spread\\_Corporates\\_AAA\\_3.5 & -0.006581508 &  0.14390610  & -0.15557496  & -0.16330284 \\\\\n",
       "\tpre\\_291\\_Spread\\_Corporates\\_AAA\\_7.10 & -0.047081607 &  0.19456134  & -0.06950488  & -0.09023502 \\\\\n",
       "\tpre\\_315\\_IBEFSUB.RI. &  0.116878322 & -0.17323167  &  0.02168852  &  0.09914488 \\\\\n",
       "\tpre\\_321\\_USECBSP & -0.122147066 & -0.07720514  &  0.09155707  &  0.12949774 \\\\\n",
       "\tpre\\_322\\_JPECBSP & -0.173553586 & -0.04056829  &  0.08749139  &  0.04215959 \\\\\n",
       "\\end{tabular}\n"
      ],
      "text/markdown": [
       "\n",
       "| <!--/--> | PC1 | PC2 | PC3 | PC4 | \n",
       "|---|---|---|---|---|---|---|---|---|---|\n",
       "| pre_167_BBUSD6M | -0.170958791 | -0.05381461  | -0.01872900  | -0.17141433  | \n",
       "| pre_173_FRTBS3M | -0.147724454 | -0.11979444  |  0.05600671  | -0.13131203  | \n",
       "| pre_278_ICCHF30 | -0.180423932 | -0.01060881  |  0.06401908  |  0.10738920  | \n",
       "| pre_279_Spread_Corporates_AAA_1.3 | -0.090916359 |  0.17504608  | -0.08359415  | -0.04295332  | \n",
       "| pre_281_Spread_Corporates_A_1.3_ | -0.014311137 |  0.22611179  | -0.06440777  | -0.14564564  | \n",
       "| pre_283_Spread_Corporates_AAA_3.5 | -0.006581508 |  0.14390610  | -0.15557496  | -0.16330284  | \n",
       "| pre_291_Spread_Corporates_AAA_7.10 | -0.047081607 |  0.19456134  | -0.06950488  | -0.09023502  | \n",
       "| pre_315_IBEFSUB.RI. |  0.116878322 | -0.17323167  |  0.02168852  |  0.09914488  | \n",
       "| pre_321_USECBSP | -0.122147066 | -0.07720514  |  0.09155707  |  0.12949774  | \n",
       "| pre_322_JPECBSP | -0.173553586 | -0.04056829  |  0.08749139  |  0.04215959  | \n",
       "\n",
       "\n"
      ],
      "text/plain": [
       "                                   PC1          PC2         PC3        \n",
       "pre_167_BBUSD6M                    -0.170958791 -0.05381461 -0.01872900\n",
       "pre_173_FRTBS3M                    -0.147724454 -0.11979444  0.05600671\n",
       "pre_278_ICCHF30                    -0.180423932 -0.01060881  0.06401908\n",
       "pre_279_Spread_Corporates_AAA_1.3  -0.090916359  0.17504608 -0.08359415\n",
       "pre_281_Spread_Corporates_A_1.3_   -0.014311137  0.22611179 -0.06440777\n",
       "pre_283_Spread_Corporates_AAA_3.5  -0.006581508  0.14390610 -0.15557496\n",
       "pre_291_Spread_Corporates_AAA_7.10 -0.047081607  0.19456134 -0.06950488\n",
       "pre_315_IBEFSUB.RI.                 0.116878322 -0.17323167  0.02168852\n",
       "pre_321_USECBSP                    -0.122147066 -0.07720514  0.09155707\n",
       "pre_322_JPECBSP                    -0.173553586 -0.04056829  0.08749139\n",
       "                                   PC4        \n",
       "pre_167_BBUSD6M                    -0.17141433\n",
       "pre_173_FRTBS3M                    -0.13131203\n",
       "pre_278_ICCHF30                     0.10738920\n",
       "pre_279_Spread_Corporates_AAA_1.3  -0.04295332\n",
       "pre_281_Spread_Corporates_A_1.3_   -0.14564564\n",
       "pre_283_Spread_Corporates_AAA_3.5  -0.16330284\n",
       "pre_291_Spread_Corporates_AAA_7.10 -0.09023502\n",
       "pre_315_IBEFSUB.RI.                 0.09914488\n",
       "pre_321_USECBSP                     0.12949774\n",
       "pre_322_JPECBSP                     0.04215959"
      ]
     },
     "metadata": {},
     "output_type": "display_data"
    }
   ],
   "source": [
    "#Let’s look at first 4 principal components and first 5 rows. (it would be equivalent for X_train_AR.pca (same results though))\n",
    "prin_comp_PD$rotation[1:10,1:4]"
   ]
  },
  {
   "cell_type": "code",
   "execution_count": 132,
   "metadata": {},
   "outputs": [
    {
     "data": {
      "text/plain": [
       "Importance of components:\n",
       "                          PC1    PC2    PC3     PC4     PC5     PC6     PC7\n",
       "Standard deviation     5.1719 3.8867 3.2834 1.69961 1.60080 1.42694 1.31373\n",
       "Proportion of Variance 0.3821 0.2158 0.1540 0.04127 0.03661 0.02909 0.02466\n",
       "Cumulative Proportion  0.3821 0.5979 0.7519 0.79320 0.82981 0.85890 0.88355\n",
       "                           PC8    PC9    PC10    PC11    PC12   PC13    PC14\n",
       "Standard deviation     1.12159 1.0483 0.99069 0.93284 0.78304 0.6951 0.65311\n",
       "Proportion of Variance 0.01797 0.0157 0.01402 0.01243 0.00876 0.0069 0.00609\n",
       "Cumulative Proportion  0.90152 0.9172 0.93125 0.94368 0.95244 0.9593 0.96543\n",
       "                          PC15    PC16    PC17    PC18    PC19   PC20    PC21\n",
       "Standard deviation     0.58967 0.54178 0.52091 0.45422 0.38921 0.3745 0.36408\n",
       "Proportion of Variance 0.00497 0.00419 0.00388 0.00295 0.00216 0.0020 0.00189\n",
       "Cumulative Proportion  0.97040 0.97459 0.97847 0.98142 0.98358 0.9856 0.98748\n",
       "                          PC22   PC23    PC24    PC25    PC26    PC27    PC28\n",
       "Standard deviation     0.32477 0.3131 0.28827 0.26875 0.25244 0.23254 0.22826\n",
       "Proportion of Variance 0.00151 0.0014 0.00119 0.00103 0.00091 0.00077 0.00074\n",
       "Cumulative Proportion  0.98898 0.9904 0.99157 0.99260 0.99351 0.99429 0.99503\n",
       "                          PC29    PC30    PC31    PC32    PC33    PC34    PC35\n",
       "Standard deviation     0.21037 0.19685 0.18533 0.18039 0.16551 0.15000 0.14189\n",
       "Proportion of Variance 0.00063 0.00055 0.00049 0.00046 0.00039 0.00032 0.00029\n",
       "Cumulative Proportion  0.99566 0.99622 0.99671 0.99717 0.99756 0.99789 0.99817\n",
       "                          PC36    PC37   PC38    PC39    PC40    PC41   PC42\n",
       "Standard deviation     0.13433 0.12803 0.1185 0.10951 0.10165 0.09058 0.0834\n",
       "Proportion of Variance 0.00026 0.00023 0.0002 0.00017 0.00015 0.00012 0.0001\n",
       "Cumulative Proportion  0.99843 0.99866 0.9989 0.99904 0.99918 0.99930 0.9994\n",
       "                         PC43    PC44    PC45    PC46    PC47    PC48    PC49\n",
       "Standard deviation     0.0823 0.07804 0.07200 0.06311 0.05708 0.05480 0.05117\n",
       "Proportion of Variance 0.0001 0.00009 0.00007 0.00006 0.00005 0.00004 0.00004\n",
       "Cumulative Proportion  0.9995 0.99958 0.99966 0.99972 0.99976 0.99981 0.99984\n",
       "                          PC50    PC51    PC52    PC53    PC54    PC55    PC56\n",
       "Standard deviation     0.04342 0.04031 0.04016 0.03703 0.03428 0.03098 0.02653\n",
       "Proportion of Variance 0.00003 0.00002 0.00002 0.00002 0.00002 0.00001 0.00001\n",
       "Cumulative Proportion  0.99987 0.99989 0.99992 0.99994 0.99995 0.99997 0.99998\n",
       "                          PC57    PC58    PC59    PC60    PC61    PC62     PC63\n",
       "Standard deviation     0.02153 0.01804 0.01706 0.01599 0.01115 0.01082 0.007789\n",
       "Proportion of Variance 0.00001 0.00000 0.00000 0.00000 0.00000 0.00000 0.000000\n",
       "Cumulative Proportion  0.99998 0.99999 0.99999 0.99999 1.00000 1.00000 1.000000\n",
       "                           PC64     PC65     PC66      PC67\n",
       "Standard deviation     0.005212 0.004294 0.002437 8.921e-16\n",
       "Proportion of Variance 0.000000 0.000000 0.000000 0.000e+00\n",
       "Cumulative Proportion  1.000000 1.000000 1.000000 1.000e+00"
      ]
     },
     "metadata": {},
     "output_type": "display_data"
    }
   ],
   "source": [
    "#This gives us the standard deviation of each component, and the proportion of variance explained by each component.\n",
    "#The cumulative Proportion tells us that the first 10 PC explain > 95% of all variance\n",
    "summary(prin_comp_PD)"
   ]
  },
  {
   "cell_type": "markdown",
   "metadata": {},
   "source": [
    "### Deciding on How Many Principal Components to Retain\n",
    "\n",
    "\n",
    "- We aim to find the components which explain the maximum variance. \n",
    "\n",
    "\n",
    "- This is because, we want to retain as much information as possible using these components. \n",
    "\n",
    "\n",
    "- So, higher is the explained variance, higher will be the information contained in those components."
   ]
  },
  {
   "cell_type": "code",
   "execution_count": 133,
   "metadata": {},
   "outputs": [
    {
     "name": "stdout",
     "output_type": "stream",
     "text": [
      "Number of principles components have variance greater than 1: 9"
     ]
    }
   ],
   "source": [
    "#Using Kaiser’s criterion, we would retain \n",
    "\n",
    "cat(\"Number of principles components have variance greater than 1:\", length(((prin_comp_PD$sdev)^2)[(prin_comp_PD$sdev)^2>1]))"
   ]
  },
  {
   "cell_type": "code",
   "execution_count": 134,
   "metadata": {},
   "outputs": [
    {
     "data": {
      "image/png": "[encoded data removed]",
      "text/plain": [
       "plot without title"
      ]
     },
     "metadata": {},
     "output_type": "display_data"
    }
   ],
   "source": [
    "##Using Scree Plot:\n",
    "#To compute the proportion of variance explained by each component, we simply divide the variance by sum of total variance. \n",
    "\n",
    "#compute variance\n",
    "pr_var = (prin_comp_PD$sdev)^2\n",
    "number_of_pcs_greater_1 = length(pr_var[pr_var>1])\n",
    "prop_varex <- pr_var/sum(pr_var)\n",
    "\n",
    "#proportion of variance explained\n",
    "plot(prop_varex, xlab = \"Principal Component\",\n",
    "             ylab = \"Proportion of Variance Explained\",\n",
    "             type = \"b\", xlim = c(1, ceiling(1.5*number_of_pcs_greater_1)))"
   ]
  },
  {
   "cell_type": "markdown",
   "metadata": {},
   "source": [
    "### Conclusion 1\n",
    "\n",
    "- The most obvious change in slope in the scree plot occurs at component where the \"elbow\" of the screeplot is.\n",
    "\n",
    "\n",
    "- Therefore, it could be argued based on the basis of the scree plot that the first components up until then could be retained"
   ]
  },
  {
   "cell_type": "code",
   "execution_count": 135,
   "metadata": {},
   "outputs": [
    {
     "data": {
      "image/png": "[encoded data removed]",
      "text/plain": [
       "plot without title"
      ]
     },
     "metadata": {},
     "output_type": "display_data"
    }
   ],
   "source": [
    "#cumulative scree plot\n",
    "plot(cumsum(prop_varex), xlab = \"Principal Component\",\n",
    "              ylab = \"Cumulative Proportion of Variance Explained\",\n",
    "              type = \"b\")"
   ]
  },
  {
   "cell_type": "markdown",
   "metadata": {},
   "source": [
    "### Conclusion 2\n",
    "\n",
    "- This plot shows that the more components the more variance explained one can retain. \n",
    "\n",
    "\n",
    "- Already with a few principle components you reach a quite high variance\n",
    "\n",
    "\n",
    "- At some point the marginal increase diminishes and you won't gain much more benefit by taking on another principle component\n",
    "\n",
    "\n",
    "- Usually one aims to take as many PCs as to reach >90% of variance explained\n",
    "\n"
   ]
  },
  {
   "cell_type": "markdown",
   "metadata": {},
   "source": [
    "## Now let's retain our Principal Components\n",
    "\n",
    "I would argue it would be best to take a conservative approach and use the Kaiser Kriterion"
   ]
  },
  {
   "cell_type": "code",
   "execution_count": 136,
   "metadata": {},
   "outputs": [
    {
     "data": {
      "text/html": [
       "<table>\n",
       "<thead><tr><th scope=col>PC1</th><th scope=col>PC2</th><th scope=col>PC3</th><th scope=col>PC4</th><th scope=col>PC5</th><th scope=col>PC6</th><th scope=col>PC7</th><th scope=col>PC8</th><th scope=col>PC9</th></tr></thead>\n",
       "<tbody>\n",
       "\t<tr><td>6.240527  </td><td>-2.516078 </td><td> 0.6958930</td><td> 0.7825557</td><td>-1.690106 </td><td> 1.9974265</td><td>-1.8528636</td><td>2.2855759 </td><td>-0.6482421</td></tr>\n",
       "\t<tr><td>5.868896  </td><td>-2.259443 </td><td>-0.1296892</td><td> 1.0288471</td><td>-2.085210 </td><td> 1.4993901</td><td>-0.7375207</td><td>1.7593814 </td><td>-0.5667149</td></tr>\n",
       "\t<tr><td>5.995389  </td><td>-2.554876 </td><td> 1.8686719</td><td>-0.3804498</td><td>-1.662066 </td><td> 1.1527382</td><td> 0.3013746</td><td>2.0298889 </td><td>-1.1378663</td></tr>\n",
       "\t<tr><td>6.160464  </td><td>-2.401090 </td><td> 0.4081953</td><td>-1.9605097</td><td>-2.172545 </td><td>-0.5854451</td><td> 1.3566794</td><td>1.8955017 </td><td>-0.5486514</td></tr>\n",
       "\t<tr><td>6.285139  </td><td>-2.367987 </td><td>-0.7498592</td><td>-1.3923059</td><td>-2.385084 </td><td>-0.4452386</td><td> 1.0664689</td><td>1.5738236 </td><td>-0.4907409</td></tr>\n",
       "\t<tr><td>6.216379  </td><td>-1.989727 </td><td>-1.8017718</td><td>-0.5292520</td><td>-2.947452 </td><td> 0.2807910</td><td> 1.4705682</td><td>0.7066357 </td><td> 0.6047583</td></tr>\n",
       "</tbody>\n",
       "</table>\n"
      ],
      "text/latex": [
       "\\begin{tabular}{lllllllll}\n",
       " PC1 & PC2 & PC3 & PC4 & PC5 & PC6 & PC7 & PC8 & PC9\\\\\n",
       "\\hline\n",
       "\t 6.240527   & -2.516078  &  0.6958930 &  0.7825557 & -1.690106  &  1.9974265 & -1.8528636 & 2.2855759  & -0.6482421\\\\\n",
       "\t 5.868896   & -2.259443  & -0.1296892 &  1.0288471 & -2.085210  &  1.4993901 & -0.7375207 & 1.7593814  & -0.5667149\\\\\n",
       "\t 5.995389   & -2.554876  &  1.8686719 & -0.3804498 & -1.662066  &  1.1527382 &  0.3013746 & 2.0298889  & -1.1378663\\\\\n",
       "\t 6.160464   & -2.401090  &  0.4081953 & -1.9605097 & -2.172545  & -0.5854451 &  1.3566794 & 1.8955017  & -0.5486514\\\\\n",
       "\t 6.285139   & -2.367987  & -0.7498592 & -1.3923059 & -2.385084  & -0.4452386 &  1.0664689 & 1.5738236  & -0.4907409\\\\\n",
       "\t 6.216379   & -1.989727  & -1.8017718 & -0.5292520 & -2.947452  &  0.2807910 &  1.4705682 & 0.7066357  &  0.6047583\\\\\n",
       "\\end{tabular}\n"
      ],
      "text/markdown": [
       "\n",
       "PC1 | PC2 | PC3 | PC4 | PC5 | PC6 | PC7 | PC8 | PC9 | \n",
       "|---|---|---|---|---|---|\n",
       "| 6.240527   | -2.516078  |  0.6958930 |  0.7825557 | -1.690106  |  1.9974265 | -1.8528636 | 2.2855759  | -0.6482421 | \n",
       "| 5.868896   | -2.259443  | -0.1296892 |  1.0288471 | -2.085210  |  1.4993901 | -0.7375207 | 1.7593814  | -0.5667149 | \n",
       "| 5.995389   | -2.554876  |  1.8686719 | -0.3804498 | -1.662066  |  1.1527382 |  0.3013746 | 2.0298889  | -1.1378663 | \n",
       "| 6.160464   | -2.401090  |  0.4081953 | -1.9605097 | -2.172545  | -0.5854451 |  1.3566794 | 1.8955017  | -0.5486514 | \n",
       "| 6.285139   | -2.367987  | -0.7498592 | -1.3923059 | -2.385084  | -0.4452386 |  1.0664689 | 1.5738236  | -0.4907409 | \n",
       "| 6.216379   | -1.989727  | -1.8017718 | -0.5292520 | -2.947452  |  0.2807910 |  1.4705682 | 0.7066357  |  0.6047583 | \n",
       "\n",
       "\n"
      ],
      "text/plain": [
       "     PC1      PC2       PC3        PC4        PC5       PC6        PC7       \n",
       "[1,] 6.240527 -2.516078  0.6958930  0.7825557 -1.690106  1.9974265 -1.8528636\n",
       "[2,] 5.868896 -2.259443 -0.1296892  1.0288471 -2.085210  1.4993901 -0.7375207\n",
       "[3,] 5.995389 -2.554876  1.8686719 -0.3804498 -1.662066  1.1527382  0.3013746\n",
       "[4,] 6.160464 -2.401090  0.4081953 -1.9605097 -2.172545 -0.5854451  1.3566794\n",
       "[5,] 6.285139 -2.367987 -0.7498592 -1.3923059 -2.385084 -0.4452386  1.0664689\n",
       "[6,] 6.216379 -1.989727 -1.8017718 -0.5292520 -2.947452  0.2807910  1.4705682\n",
       "     PC8       PC9       \n",
       "[1,] 2.2855759 -0.6482421\n",
       "[2,] 1.7593814 -0.5667149\n",
       "[3,] 2.0298889 -1.1378663\n",
       "[4,] 1.8955017 -0.5486514\n",
       "[5,] 1.5738236 -0.4907409\n",
       "[6,] 0.7066357  0.6047583"
      ]
     },
     "metadata": {},
     "output_type": "display_data"
    }
   ],
   "source": [
    "#Here we take the selected principle components\n",
    "X_train_PD.pca = prin_comp_PD$x[,1:number_of_pcs_greater_1]\n",
    "X_train_AR.pca = prin_comp_AR$x[,1:number_of_pcs_greater_1]\n",
    "\n",
    "head(X_train_AR.pca)"
   ]
  },
  {
   "cell_type": "code",
   "execution_count": 138,
   "metadata": {},
   "outputs": [
    {
     "data": {
      "text/html": [
       "<table>\n",
       "<thead><tr><th></th><th scope=col>First.Variable</th><th scope=col>Second.Variable</th><th scope=col>Correlation</th></tr></thead>\n",
       "<tbody>\n",
       "\t<tr><th scope=row>30</th><td>PC3         </td><td>PC4         </td><td>2.347961e-15</td></tr>\n",
       "\t<tr><th scope=row>69</th><td>PC6         </td><td>PC8         </td><td>1.437815e-15</td></tr>\n",
       "\t<tr><th scope=row>46</th><td>PC1         </td><td>PC6         </td><td>1.394077e-15</td></tr>\n",
       "\t<tr><th scope=row>40</th><td>PC4         </td><td>PC5         </td><td>1.230698e-15</td></tr>\n",
       "\t<tr><th scope=row>37</th><td>PC1         </td><td>PC5         </td><td>9.331833e-16</td></tr>\n",
       "</tbody>\n",
       "</table>\n"
      ],
      "text/latex": [
       "\\begin{tabular}{r|lll}\n",
       "  & First.Variable & Second.Variable & Correlation\\\\\n",
       "\\hline\n",
       "\t30 & PC3          & PC4          & 2.347961e-15\\\\\n",
       "\t69 & PC6          & PC8          & 1.437815e-15\\\\\n",
       "\t46 & PC1          & PC6          & 1.394077e-15\\\\\n",
       "\t40 & PC4          & PC5          & 1.230698e-15\\\\\n",
       "\t37 & PC1          & PC5          & 9.331833e-16\\\\\n",
       "\\end{tabular}\n"
      ],
      "text/markdown": [
       "\n",
       "| <!--/--> | First.Variable | Second.Variable | Correlation | \n",
       "|---|---|---|---|---|\n",
       "| 30 | PC3          | PC4          | 2.347961e-15 | \n",
       "| 69 | PC6          | PC8          | 1.437815e-15 | \n",
       "| 46 | PC1          | PC6          | 1.394077e-15 | \n",
       "| 40 | PC4          | PC5          | 1.230698e-15 | \n",
       "| 37 | PC1          | PC5          | 9.331833e-16 | \n",
       "\n",
       "\n"
      ],
      "text/plain": [
       "   First.Variable Second.Variable Correlation \n",
       "30 PC3            PC4             2.347961e-15\n",
       "69 PC6            PC8             1.437815e-15\n",
       "46 PC1            PC6             1.394077e-15\n",
       "40 PC4            PC5             1.230698e-15\n",
       "37 PC1            PC5             9.331833e-16"
      ]
     },
     "metadata": {},
     "output_type": "display_data"
    }
   ],
   "source": [
    "#Let's run a quick pairwise correlation check to confirm that there should be none!\n",
    "\n",
    "mosthighlycorrelated <- function(mydataframe,numtoreport)\n",
    "{\n",
    "# find the correlations\n",
    "cormatrix <- cor(mydataframe)\n",
    "# set the correlations on the diagonal or lower triangle to zero,\n",
    "# so they will not be reported as the highest ones:\n",
    "diag(cormatrix) <- 0\n",
    "cormatrix[lower.tri(cormatrix)] <- 0\n",
    "# flatten the matrix into a dataframe for easy sorting\n",
    "fm <- as.data.frame(as.table(cormatrix))\n",
    "# assign human-friendly names\n",
    "names(fm) <- c(\"First.Variable\", \"Second.Variable\",\"Correlation\")\n",
    "fm$Correlation = abs(fm$Correlation)\n",
    "# sort and print the top n correlations\n",
    "head(fm[order(abs(fm$Correlation),decreasing=T),],n=numtoreport)\n",
    "}\n",
    "mosthighlycorrelated(X_train_PD.pca, 5)"
   ]
  },
  {
   "cell_type": "markdown",
   "metadata": {},
   "source": [
    "#### Also visually we can confirm that by design there are no correlations among the features (as expected with PCs!)"
   ]
  },
  {
   "cell_type": "code",
   "execution_count": 140,
   "metadata": {},
   "outputs": [
    {
     "data": {
      "image/png": "[encoded data removed]",
      "text/plain": [
       "plot without title"
      ]
     },
     "metadata": {},
     "output_type": "display_data"
    }
   ],
   "source": [
    "pairs(X_train_PD.pca[,1:5])"
   ]
  },
  {
   "cell_type": "code",
   "execution_count": 59,
   "metadata": {},
   "outputs": [],
   "source": [
    "#This completes the steps to implement PCA on train data"
   ]
  },
  {
   "cell_type": "markdown",
   "metadata": {},
   "source": [
    "### Predictive Modeling with PCA Components\n",
    "\n",
    "\n",
    "After we’ve calculated the principal components on training set, let’s now understand the process of predicting on test data using these components. The process is simple. Just like we’ve obtained PCA components on training set, we’ll get another bunch of components on testing set. Finally, we train the model.\n",
    "\n",
    "\n",
    "__But, few important points to understand:__\n",
    "\n",
    "We should not combine the train and test set to obtain PCA components of whole data at once. Because, this would violate the entire assumption of generalization since test data would get ‘leaked’ into the training set. In other words, the test data set would no longer remain ‘unseen’. Eventually, this will hammer down the generalization capability of the model.\n",
    "We should not perform PCA on test and train data sets separately. Because, the resultant vectors from train and test PCAs will have different directions ( due to unequal variance). Due to this, we’ll end up comparing data registered on different axes. Therefore, the resulting vectors from train and test data should have same axes.\n",
    "So, what should we do?"
   ]
  },
  {
   "cell_type": "code",
   "execution_count": 141,
   "metadata": {},
   "outputs": [
    {
     "data": {
      "text/html": [
       "<table>\n",
       "<thead><tr><th scope=col>pre_167_BBUSD6M</th><th scope=col>pre_173_FRTBS3M</th><th scope=col>pre_278_ICCHF30</th><th scope=col>pre_279_Spread_Corporates_AAA_1.3</th><th scope=col>pre_281_Spread_Corporates_A_1.3_</th><th scope=col>pre_283_Spread_Corporates_AAA_3.5</th><th scope=col>pre_291_Spread_Corporates_AAA_7.10</th><th scope=col>pre_315_IBEFSUB.RI.</th><th scope=col>pre_321_USECBSP</th><th scope=col>pre_322_JPECBSP</th><th scope=col>...</th><th scope=col>pre_622_EU_IND_PROD_VOLA</th><th scope=col>pre_623_D_LABPROD_USD</th><th scope=col>pre_646_EUR_Gross_Invest</th><th scope=col>pre_647_GER_Gross_Invest</th><th scope=col>pre_648_CBOEVIX</th><th scope=col>pre_651_BBJPY1W</th><th scope=col>pre_654_BBJPY6M</th><th scope=col>pre_658_TRJP30T</th><th scope=col>pre_660_TRJP2YT</th><th scope=col>pre_662_ESGBOND.</th></tr></thead>\n",
       "<tbody>\n",
       "\t<tr><td>0.92415    </td><td>0.26       </td><td>0.072      </td><td>0.003268333</td><td>0.004268333</td><td>0.002011667</td><td>0.00078625 </td><td>239.491    </td><td>1.1102     </td><td>114.05     </td><td>...        </td><td>104.6      </td><td>103.1000   </td><td>104.1      </td><td>104.4000   </td><td>14.77      </td><td>-0.06200   </td><td>-0.00950   </td><td>0.142      </td><td>-0.298     </td><td>0.0148     </td></tr>\n",
       "\t<tr><td>0.99310    </td><td>0.34       </td><td>0.345      </td><td>0.002835000</td><td>0.004225000</td><td>0.002211667</td><td>0.00324250 </td><td>241.690    </td><td>1.1154     </td><td>123.83     </td><td>...        </td><td>103.9      </td><td>103.0444   </td><td>103.5      </td><td>105.1667   </td><td>14.20      </td><td>-0.02557   </td><td>-0.00507   </td><td>0.299      </td><td>-0.236     </td><td>0.0157     </td></tr>\n",
       "\t<tr><td>0.90415    </td><td>0.22       </td><td>0.382      </td><td>0.002636000</td><td>0.004356000</td><td>0.002168333</td><td>0.00215500 </td><td>241.315    </td><td>1.1403     </td><td>122.34     </td><td>...        </td><td>105.3      </td><td>102.9889   </td><td>102.9      </td><td>105.9333   </td><td>14.68      </td><td>-0.03414   </td><td> 0.00586   </td><td>0.346      </td><td>-0.233     </td><td>0.0153     </td></tr>\n",
       "\t<tr><td>0.89970    </td><td>0.21       </td><td>0.367      </td><td>0.002738333</td><td>0.004838333</td><td>0.002488333</td><td>0.00312750 </td><td>238.453    </td><td>1.1385     </td><td>127.90     </td><td>...        </td><td>103.8      </td><td>102.9333   </td><td>102.3      </td><td>106.7000   </td><td>13.10      </td><td>-0.07529   </td><td> 0.02350   </td><td>0.542      </td><td>-0.207     </td><td>0.0154     </td></tr>\n",
       "\t<tr><td>0.88590    </td><td>0.33       </td><td>0.287      </td><td>0.003351667</td><td>0.006161667</td><td>0.003050000</td><td>0.00359875 </td><td>233.441    </td><td>1.0888     </td><td>123.14     </td><td>...        </td><td>104.4      </td><td>102.6000   </td><td>102.5      </td><td>106.3000   </td><td>17.70      </td><td>-0.05300   </td><td>-0.00629   </td><td>0.860      </td><td>-0.232     </td><td>0.0172     </td></tr>\n",
       "\t<tr><td>0.86025    </td><td>0.32       </td><td>0.560      </td><td>0.002868333</td><td>0.005218333</td><td>0.002920000</td><td>0.00199650 </td><td>235.340    </td><td>1.0920     </td><td>132.25     </td><td>...        </td><td>105.8      </td><td>102.2667   </td><td>102.7      </td><td>105.9000   </td><td>19.98      </td><td> 0.02743   </td><td> 0.06143   </td><td>1.076      </td><td>-0.060     </td><td>0.0172     </td></tr>\n",
       "</tbody>\n",
       "</table>\n"
      ],
      "text/latex": [
       "\\begin{tabular}{r|llllllllllllllllllllllllllllllllllllllllllllllllllllllllllllllllllllll}\n",
       " pre\\_167\\_BBUSD6M & pre\\_173\\_FRTBS3M & pre\\_278\\_ICCHF30 & pre\\_279\\_Spread\\_Corporates\\_AAA\\_1.3 & pre\\_281\\_Spread\\_Corporates\\_A\\_1.3\\_ & pre\\_283\\_Spread\\_Corporates\\_AAA\\_3.5 & pre\\_291\\_Spread\\_Corporates\\_AAA\\_7.10 & pre\\_315\\_IBEFSUB.RI. & pre\\_321\\_USECBSP & pre\\_322\\_JPECBSP & ... & pre\\_622\\_EU\\_IND\\_PROD\\_VOLA & pre\\_623\\_D\\_LABPROD\\_USD & pre\\_646\\_EUR\\_Gross\\_Invest & pre\\_647\\_GER\\_Gross\\_Invest & pre\\_648\\_CBOEVIX & pre\\_651\\_BBJPY1W & pre\\_654\\_BBJPY6M & pre\\_658\\_TRJP30T & pre\\_660\\_TRJP2YT & pre\\_662\\_ESGBOND.\\\\\n",
       "\\hline\n",
       "\t 0.92415     & 0.26        & 0.072       & 0.003268333 & 0.004268333 & 0.002011667 & 0.00078625  & 239.491     & 1.1102      & 114.05      & ...         & 104.6       & 103.1000    & 104.1       & 104.4000    & 14.77       & -0.06200    & -0.00950    & 0.142       & -0.298      & 0.0148     \\\\\n",
       "\t 0.99310     & 0.34        & 0.345       & 0.002835000 & 0.004225000 & 0.002211667 & 0.00324250  & 241.690     & 1.1154      & 123.83      & ...         & 103.9       & 103.0444    & 103.5       & 105.1667    & 14.20       & -0.02557    & -0.00507    & 0.299       & -0.236      & 0.0157     \\\\\n",
       "\t 0.90415     & 0.22        & 0.382       & 0.002636000 & 0.004356000 & 0.002168333 & 0.00215500  & 241.315     & 1.1403      & 122.34      & ...         & 105.3       & 102.9889    & 102.9       & 105.9333    & 14.68       & -0.03414    &  0.00586    & 0.346       & -0.233      & 0.0153     \\\\\n",
       "\t 0.89970     & 0.21        & 0.367       & 0.002738333 & 0.004838333 & 0.002488333 & 0.00312750  & 238.453     & 1.1385      & 127.90      & ...         & 103.8       & 102.9333    & 102.3       & 106.7000    & 13.10       & -0.07529    &  0.02350    & 0.542       & -0.207      & 0.0154     \\\\\n",
       "\t 0.88590     & 0.33        & 0.287       & 0.003351667 & 0.006161667 & 0.003050000 & 0.00359875  & 233.441     & 1.0888      & 123.14      & ...         & 104.4       & 102.6000    & 102.5       & 106.3000    & 17.70       & -0.05300    & -0.00629    & 0.860       & -0.232      & 0.0172     \\\\\n",
       "\t 0.86025     & 0.32        & 0.560       & 0.002868333 & 0.005218333 & 0.002920000 & 0.00199650  & 235.340     & 1.0920      & 132.25      & ...         & 105.8       & 102.2667    & 102.7       & 105.9000    & 19.98       &  0.02743    &  0.06143    & 1.076       & -0.060      & 0.0172     \\\\\n",
       "\\end{tabular}\n"
      ],
      "text/markdown": [
       "\n",
       "pre_167_BBUSD6M | pre_173_FRTBS3M | pre_278_ICCHF30 | pre_279_Spread_Corporates_AAA_1.3 | pre_281_Spread_Corporates_A_1.3_ | pre_283_Spread_Corporates_AAA_3.5 | pre_291_Spread_Corporates_AAA_7.10 | pre_315_IBEFSUB.RI. | pre_321_USECBSP | pre_322_JPECBSP | ... | pre_622_EU_IND_PROD_VOLA | pre_623_D_LABPROD_USD | pre_646_EUR_Gross_Invest | pre_647_GER_Gross_Invest | pre_648_CBOEVIX | pre_651_BBJPY1W | pre_654_BBJPY6M | pre_658_TRJP30T | pre_660_TRJP2YT | pre_662_ESGBOND. | \n",
       "|---|---|---|---|---|---|\n",
       "| 0.92415     | 0.26        | 0.072       | 0.003268333 | 0.004268333 | 0.002011667 | 0.00078625  | 239.491     | 1.1102      | 114.05      | ...         | 104.6       | 103.1000    | 104.1       | 104.4000    | 14.77       | -0.06200    | -0.00950    | 0.142       | -0.298      | 0.0148      | \n",
       "| 0.99310     | 0.34        | 0.345       | 0.002835000 | 0.004225000 | 0.002211667 | 0.00324250  | 241.690     | 1.1154      | 123.83      | ...         | 103.9       | 103.0444    | 103.5       | 105.1667    | 14.20       | -0.02557    | -0.00507    | 0.299       | -0.236      | 0.0157      | \n",
       "| 0.90415     | 0.22        | 0.382       | 0.002636000 | 0.004356000 | 0.002168333 | 0.00215500  | 241.315     | 1.1403      | 122.34      | ...         | 105.3       | 102.9889    | 102.9       | 105.9333    | 14.68       | -0.03414    |  0.00586    | 0.346       | -0.233      | 0.0153      | \n",
       "| 0.89970     | 0.21        | 0.367       | 0.002738333 | 0.004838333 | 0.002488333 | 0.00312750  | 238.453     | 1.1385      | 127.90      | ...         | 103.8       | 102.9333    | 102.3       | 106.7000    | 13.10       | -0.07529    |  0.02350    | 0.542       | -0.207      | 0.0154      | \n",
       "| 0.88590     | 0.33        | 0.287       | 0.003351667 | 0.006161667 | 0.003050000 | 0.00359875  | 233.441     | 1.0888      | 123.14      | ...         | 104.4       | 102.6000    | 102.5       | 106.3000    | 17.70       | -0.05300    | -0.00629    | 0.860       | -0.232      | 0.0172      | \n",
       "| 0.86025     | 0.32        | 0.560       | 0.002868333 | 0.005218333 | 0.002920000 | 0.00199650  | 235.340     | 1.0920      | 132.25      | ...         | 105.8       | 102.2667    | 102.7       | 105.9000    | 19.98       |  0.02743    |  0.06143    | 1.076       | -0.060      | 0.0172      | \n",
       "\n",
       "\n"
      ],
      "text/plain": [
       "  pre_167_BBUSD6M pre_173_FRTBS3M pre_278_ICCHF30\n",
       "1 0.92415         0.26            0.072          \n",
       "2 0.99310         0.34            0.345          \n",
       "3 0.90415         0.22            0.382          \n",
       "4 0.89970         0.21            0.367          \n",
       "5 0.88590         0.33            0.287          \n",
       "6 0.86025         0.32            0.560          \n",
       "  pre_279_Spread_Corporates_AAA_1.3 pre_281_Spread_Corporates_A_1.3_\n",
       "1 0.003268333                       0.004268333                     \n",
       "2 0.002835000                       0.004225000                     \n",
       "3 0.002636000                       0.004356000                     \n",
       "4 0.002738333                       0.004838333                     \n",
       "5 0.003351667                       0.006161667                     \n",
       "6 0.002868333                       0.005218333                     \n",
       "  pre_283_Spread_Corporates_AAA_3.5 pre_291_Spread_Corporates_AAA_7.10\n",
       "1 0.002011667                       0.00078625                        \n",
       "2 0.002211667                       0.00324250                        \n",
       "3 0.002168333                       0.00215500                        \n",
       "4 0.002488333                       0.00312750                        \n",
       "5 0.003050000                       0.00359875                        \n",
       "6 0.002920000                       0.00199650                        \n",
       "  pre_315_IBEFSUB.RI. pre_321_USECBSP pre_322_JPECBSP ...\n",
       "1 239.491             1.1102          114.05          ...\n",
       "2 241.690             1.1154          123.83          ...\n",
       "3 241.315             1.1403          122.34          ...\n",
       "4 238.453             1.1385          127.90          ...\n",
       "5 233.441             1.0888          123.14          ...\n",
       "6 235.340             1.0920          132.25          ...\n",
       "  pre_622_EU_IND_PROD_VOLA pre_623_D_LABPROD_USD pre_646_EUR_Gross_Invest\n",
       "1 104.6                    103.1000              104.1                   \n",
       "2 103.9                    103.0444              103.5                   \n",
       "3 105.3                    102.9889              102.9                   \n",
       "4 103.8                    102.9333              102.3                   \n",
       "5 104.4                    102.6000              102.5                   \n",
       "6 105.8                    102.2667              102.7                   \n",
       "  pre_647_GER_Gross_Invest pre_648_CBOEVIX pre_651_BBJPY1W pre_654_BBJPY6M\n",
       "1 104.4000                 14.77           -0.06200        -0.00950       \n",
       "2 105.1667                 14.20           -0.02557        -0.00507       \n",
       "3 105.9333                 14.68           -0.03414         0.00586       \n",
       "4 106.7000                 13.10           -0.07529         0.02350       \n",
       "5 106.3000                 17.70           -0.05300        -0.00629       \n",
       "6 105.9000                 19.98            0.02743         0.06143       \n",
       "  pre_658_TRJP30T pre_660_TRJP2YT pre_662_ESGBOND.\n",
       "1 0.142           -0.298          0.0148          \n",
       "2 0.299           -0.236          0.0157          \n",
       "3 0.346           -0.233          0.0153          \n",
       "4 0.542           -0.207          0.0154          \n",
       "5 0.860           -0.232          0.0172          \n",
       "6 1.076           -0.060          0.0172          "
      ]
     },
     "metadata": {},
     "output_type": "display_data"
    }
   ],
   "source": [
    "head(X_test_PD)"
   ]
  },
  {
   "cell_type": "code",
   "execution_count": 142,
   "metadata": {},
   "outputs": [],
   "source": [
    "#transform test into PCA\n",
    "X_test_PD.pca <- predict(prin_comp_PD, newdata = X_test_PD)\n",
    "X_test_AR.pca <- predict(prin_comp_AR, newdata = X_test_AR)\n",
    "\n",
    "#select the first components according to the Kairser Criterion form your train set analysis:\n",
    "X_test_PD.pca = X_test_PD.pca[,1:number_of_pcs_greater_1]\n",
    "X_test_AR.pca = X_test_AR.pca[,1:number_of_pcs_greater_1]"
   ]
  },
  {
   "cell_type": "code",
   "execution_count": 143,
   "metadata": {},
   "outputs": [
    {
     "data": {
      "text/html": [
       "<table>\n",
       "<thead><tr><th scope=col>PC1</th><th scope=col>PC2</th><th scope=col>PC3</th><th scope=col>PC4</th><th scope=col>PC5</th><th scope=col>PC6</th><th scope=col>PC7</th><th scope=col>PC8</th><th scope=col>PC9</th></tr></thead>\n",
       "<tbody>\n",
       "\t<tr><td>8.505869   </td><td>-2.439925  </td><td>-2.47338722</td><td>-2.777689  </td><td>-2.583475  </td><td>-2.1810970 </td><td>-4.106991  </td><td>2.634086   </td><td>2.230768   </td></tr>\n",
       "\t<tr><td>7.914888   </td><td>-2.591748  </td><td>-1.26988972</td><td>-2.273720  </td><td>-3.443731  </td><td>-0.8819323 </td><td>-3.735359  </td><td>1.856941   </td><td>3.937357   </td></tr>\n",
       "\t<tr><td>7.778322   </td><td>-2.563909  </td><td>-0.97987236</td><td>-1.684934  </td><td>-3.012414  </td><td>-0.1654567 </td><td>-3.810705  </td><td>1.964042   </td><td>3.620767   </td></tr>\n",
       "\t<tr><td>7.488215   </td><td>-2.183089  </td><td>-0.09415793</td><td>-1.578318  </td><td>-2.527442  </td><td> 0.8499258 </td><td>-3.749932  </td><td>2.481010   </td><td>3.784939   </td></tr>\n",
       "\t<tr><td>7.011348   </td><td>-1.513394  </td><td>-2.56635644</td><td>-1.367651  </td><td>-2.966908  </td><td>-0.2649991 </td><td>-4.463867  </td><td>3.167791   </td><td>3.779076   </td></tr>\n",
       "\t<tr><td>6.150838   </td><td>-1.515713  </td><td>-3.29563395</td><td>-1.517989  </td><td>-3.544864  </td><td>-1.2499789 </td><td>-4.773251  </td><td>2.647615   </td><td>3.468155   </td></tr>\n",
       "</tbody>\n",
       "</table>\n"
      ],
      "text/latex": [
       "\\begin{tabular}{lllllllll}\n",
       " PC1 & PC2 & PC3 & PC4 & PC5 & PC6 & PC7 & PC8 & PC9\\\\\n",
       "\\hline\n",
       "\t 8.505869    & -2.439925   & -2.47338722 & -2.777689   & -2.583475   & -2.1810970  & -4.106991   & 2.634086    & 2.230768   \\\\\n",
       "\t 7.914888    & -2.591748   & -1.26988972 & -2.273720   & -3.443731   & -0.8819323  & -3.735359   & 1.856941    & 3.937357   \\\\\n",
       "\t 7.778322    & -2.563909   & -0.97987236 & -1.684934   & -3.012414   & -0.1654567  & -3.810705   & 1.964042    & 3.620767   \\\\\n",
       "\t 7.488215    & -2.183089   & -0.09415793 & -1.578318   & -2.527442   &  0.8499258  & -3.749932   & 2.481010    & 3.784939   \\\\\n",
       "\t 7.011348    & -1.513394   & -2.56635644 & -1.367651   & -2.966908   & -0.2649991  & -4.463867   & 3.167791    & 3.779076   \\\\\n",
       "\t 6.150838    & -1.515713   & -3.29563395 & -1.517989   & -3.544864   & -1.2499789  & -4.773251   & 2.647615    & 3.468155   \\\\\n",
       "\\end{tabular}\n"
      ],
      "text/markdown": [
       "\n",
       "PC1 | PC2 | PC3 | PC4 | PC5 | PC6 | PC7 | PC8 | PC9 | \n",
       "|---|---|---|---|---|---|\n",
       "| 8.505869    | -2.439925   | -2.47338722 | -2.777689   | -2.583475   | -2.1810970  | -4.106991   | 2.634086    | 2.230768    | \n",
       "| 7.914888    | -2.591748   | -1.26988972 | -2.273720   | -3.443731   | -0.8819323  | -3.735359   | 1.856941    | 3.937357    | \n",
       "| 7.778322    | -2.563909   | -0.97987236 | -1.684934   | -3.012414   | -0.1654567  | -3.810705   | 1.964042    | 3.620767    | \n",
       "| 7.488215    | -2.183089   | -0.09415793 | -1.578318   | -2.527442   |  0.8499258  | -3.749932   | 2.481010    | 3.784939    | \n",
       "| 7.011348    | -1.513394   | -2.56635644 | -1.367651   | -2.966908   | -0.2649991  | -4.463867   | 3.167791    | 3.779076    | \n",
       "| 6.150838    | -1.515713   | -3.29563395 | -1.517989   | -3.544864   | -1.2499789  | -4.773251   | 2.647615    | 3.468155    | \n",
       "\n",
       "\n"
      ],
      "text/plain": [
       "     PC1      PC2       PC3         PC4       PC5       PC6        PC7      \n",
       "[1,] 8.505869 -2.439925 -2.47338722 -2.777689 -2.583475 -2.1810970 -4.106991\n",
       "[2,] 7.914888 -2.591748 -1.26988972 -2.273720 -3.443731 -0.8819323 -3.735359\n",
       "[3,] 7.778322 -2.563909 -0.97987236 -1.684934 -3.012414 -0.1654567 -3.810705\n",
       "[4,] 7.488215 -2.183089 -0.09415793 -1.578318 -2.527442  0.8499258 -3.749932\n",
       "[5,] 7.011348 -1.513394 -2.56635644 -1.367651 -2.966908 -0.2649991 -4.463867\n",
       "[6,] 6.150838 -1.515713 -3.29563395 -1.517989 -3.544864 -1.2499789 -4.773251\n",
       "     PC8      PC9     \n",
       "[1,] 2.634086 2.230768\n",
       "[2,] 1.856941 3.937357\n",
       "[3,] 1.964042 3.620767\n",
       "[4,] 2.481010 3.784939\n",
       "[5,] 3.167791 3.779076\n",
       "[6,] 2.647615 3.468155"
      ]
     },
     "metadata": {},
     "output_type": "display_data"
    }
   ],
   "source": [
    "head(X_test_PD.pca)"
   ]
  },
  {
   "cell_type": "markdown",
   "metadata": {},
   "source": [
    "### Conclusion\n",
    "\n",
    "What we achieved was that we transformed our dataset well enough, so that we can proceed to the final step of our forecasting approach."
   ]
  },
  {
   "cell_type": "code",
   "execution_count": 144,
   "metadata": {},
   "outputs": [
    {
     "name": "stdout",
     "output_type": "stream",
     "text": [
      "Number of columns in ABT_train_PD: 10 \n",
      "Number of rows in ABT_train_PD: 67 \n",
      "Number of columns in ABT_train_AR: 10 \n",
      "Number of rows in ABT_train_AR: 67 \n",
      "Number of columns in ABT_test_PD: 10 \n",
      "Number of rows in ABT_test_PD: 39 \n",
      "Number of columns in ABT_test_AR: 10 \n",
      "Number of rows in ABT_test_AR: 39"
     ]
    }
   ],
   "source": [
    "#Merge y_train and X_train_PD.pca as well as y_test and X_test_PD.pca together\n",
    "ABT_train_PD = data.frame(y_train_PD, X_train_PD.pca)\n",
    "ABT_train_AR = data.frame(y_train_AR, X_train_AR.pca)\n",
    "cat(\"Number of columns in ABT_train_PD:\", ncol(ABT_train_PD),\"\\n\")\n",
    "cat(\"Number of rows in ABT_train_PD:\", nrow(ABT_train_PD),\"\\n\")\n",
    "cat(\"Number of columns in ABT_train_AR:\", ncol(ABT_train_AR),\"\\n\")\n",
    "cat(\"Number of rows in ABT_train_AR:\", nrow(ABT_train_AR), \"\\n\")\n",
    "\n",
    "\n",
    "ABT_test_PD = data.frame(y_test_PD, X_test_PD.pca)\n",
    "ABT_test_AR = data.frame(y_test_AR, X_test_AR.pca)\n",
    "cat(\"Number of columns in ABT_test_PD:\", ncol(ABT_test_PD),\"\\n\")\n",
    "cat(\"Number of rows in ABT_test_PD:\", nrow(ABT_test_PD), \"\\n\")\n",
    "cat(\"Number of columns in ABT_test_AR:\", ncol(ABT_test_AR),\"\\n\")\n",
    "cat(\"Number of rows in ABT_test_AR:\", nrow(ABT_test_AR))"
   ]
  },
  {
   "cell_type": "code",
   "execution_count": 145,
   "metadata": {},
   "outputs": [],
   "source": [
    "#Save file\n",
    "write.csv(ABT_train_PD,\"ABT_train_PD\",row.names=FALSE)\n",
    "write.csv(ABT_train_AR,\"ABT_train_AR\",row.names=FALSE)\n",
    "write.csv(ABT_test_PD,\"ABT_train_PD\",row.names=FALSE)\n",
    "write.csv(ABT_test_AR,\"ABT_train_PD\",row.names=FALSE)"
   ]
  },
  {
   "cell_type": "code",
   "execution_count": 146,
   "metadata": {},
   "outputs": [],
   "source": [
    "#END"
   ]
  },
  {
   "cell_type": "code",
   "execution_count": null,
   "metadata": {},
   "outputs": [],
   "source": []
  },
  {
   "cell_type": "code",
   "execution_count": null,
   "metadata": {},
   "outputs": [],
   "source": []
  },
  {
   "cell_type": "code",
   "execution_count": null,
   "metadata": {},
   "outputs": [],
   "source": []
  },
  {
   "cell_type": "code",
   "execution_count": null,
   "metadata": {},
   "outputs": [],
   "source": []
  },
  {
   "cell_type": "code",
   "execution_count": null,
   "metadata": {},
   "outputs": [],
   "source": []
  },
  {
   "cell_type": "code",
   "execution_count": null,
   "metadata": {},
   "outputs": [],
   "source": []
  },
  {
   "cell_type": "code",
   "execution_count": null,
   "metadata": {},
   "outputs": [],
   "source": []
  },
  {
   "cell_type": "code",
   "execution_count": null,
   "metadata": {},
   "outputs": [],
   "source": []
  },
  {
   "cell_type": "code",
   "execution_count": null,
   "metadata": {},
   "outputs": [],
   "source": []
  },
  {
   "cell_type": "code",
   "execution_count": null,
   "metadata": {},
   "outputs": [],
   "source": []
  },
  {
   "cell_type": "code",
   "execution_count": null,
   "metadata": {},
   "outputs": [],
   "source": []
  },
  {
   "cell_type": "code",
   "execution_count": null,
   "metadata": {},
   "outputs": [],
   "source": []
  },
  {
   "cell_type": "code",
   "execution_count": 15,
   "metadata": {},
   "outputs": [
    {
     "name": "stdout",
     "output_type": "stream",
     "text": [
      "\n",
      "Recursive feature selection\n",
      "\n",
      "Outer resampling method: Cross-Validated (4 fold) \n",
      "\n",
      "Resampling performance over subset size:\n",
      "\n",
      " Variables    RMSE Rsquared     MAE   RMSESD RsquaredSD    MAESD Selected\n",
      "         1 0.13273   0.5936 0.09232 0.028057    0.14563 0.017174         \n",
      "         2 0.08025   0.8318 0.05252 0.023794    0.07248 0.009255         \n",
      "         3 0.06773   0.8829 0.04624 0.019738    0.07770 0.008040         \n",
      "         4 0.06768   0.8919 0.04786 0.024213    0.07888 0.012322         \n",
      "         5 0.07095   0.9017 0.05002 0.012635    0.06812 0.005964         \n",
      "         6 0.06163   0.9231 0.04129 0.011833    0.03391 0.004344         \n",
      "         7 0.06116   0.9303 0.04278 0.009652    0.03109 0.004061        *\n",
      "         8 0.06481   0.9303 0.04512 0.009991    0.02177 0.004718         \n",
      "         9 0.06361   0.9271 0.04406 0.013011    0.02716 0.006055         \n",
      "        10 0.06170   0.9357 0.04354 0.014432    0.02819 0.006799         \n",
      "        11 0.06315   0.9358 0.04570 0.010439    0.02545 0.005952         \n",
      "        12 0.06456   0.9298 0.04594 0.014022    0.02870 0.007412         \n",
      "        13 0.06621   0.9249 0.04659 0.017087    0.03671 0.008828         \n",
      "        14 0.07021   0.9168 0.04975 0.015343    0.03892 0.008362         \n",
      "        15 0.06830   0.9204 0.04849 0.014918    0.03567 0.007560         \n",
      "        16 0.06915   0.9226 0.05040 0.016584    0.03775 0.008717         \n",
      "        17 0.07108   0.9224 0.05137 0.015657    0.03383 0.008514         \n",
      "\n",
      "The top 5 variables (out of 7):\n",
      "   PC2, PC4, PC3, PC1, PC6\n",
      "\n"
     ]
    },
    {
     "data": {
      "text/html": [
       "<ol class=list-inline>\n",
       "\t<li>'PC2'</li>\n",
       "\t<li>'PC4'</li>\n",
       "\t<li>'PC3'</li>\n",
       "\t<li>'PC1'</li>\n",
       "\t<li>'PC6'</li>\n",
       "\t<li>'PC12'</li>\n",
       "\t<li>'PC10'</li>\n",
       "</ol>\n"
      ],
      "text/latex": [
       "\\begin{enumerate*}\n",
       "\\item 'PC2'\n",
       "\\item 'PC4'\n",
       "\\item 'PC3'\n",
       "\\item 'PC1'\n",
       "\\item 'PC6'\n",
       "\\item 'PC12'\n",
       "\\item 'PC10'\n",
       "\\end{enumerate*}\n"
      ],
      "text/markdown": [
       "1. 'PC2'\n",
       "2. 'PC4'\n",
       "3. 'PC3'\n",
       "4. 'PC1'\n",
       "5. 'PC6'\n",
       "6. 'PC12'\n",
       "7. 'PC10'\n",
       "\n",
       "\n"
      ],
      "text/plain": [
       "[1] \"PC2\"  \"PC4\"  \"PC3\"  \"PC1\"  \"PC6\"  \"PC12\" \"PC10\""
      ]
     },
     "metadata": {},
     "output_type": "display_data"
    },
    {
     "data": {},
     "metadata": {},
     "output_type": "display_data"
    },
    {
     "data": {
      "image/png": "[encoded data removed]",
      "text/plain": [
       "plot without title"
      ]
     },
     "metadata": {},
     "output_type": "display_data"
    }
   ],
   "source": [
    "set.seed(1)\n",
    "control <- rfeControl(functions=rfFuncs, method=\"cv\", number=4)\n",
    "# run the RFE algorithm\n",
    "results <- rfe(temp[,-1], temp[,1], sizes=c(1:106), rfeControl=control)\n",
    "# summarize the results\n",
    "print(results)\n",
    "# list the chosen features\n",
    "predictors(results)\n",
    "# plot the results\n",
    "plot(results, type=c(\"g\", \"o\"))"
   ]
  },
  {
   "cell_type": "markdown",
   "metadata": {},
   "source": [
    "### Small check what significance the linear model receives with selected PCs"
   ]
  },
  {
   "cell_type": "code",
   "execution_count": 16,
   "metadata": {},
   "outputs": [
    {
     "data": {
      "text/html": [
       "<table>\n",
       "<thead><tr><th></th><th scope=col>coef.fit.</th><th scope=col>X2.5..</th><th scope=col>X97.5..</th></tr></thead>\n",
       "<tbody>\n",
       "\t<tr><th scope=row>(Intercept)</th><td> 0.0643247606</td><td> 5.970599e-02</td><td> 0.068943534 </td></tr>\n",
       "\t<tr><th scope=row>PC1</th><td> 0.0040545357</td><td> 3.766999e-03</td><td> 0.004342073 </td></tr>\n",
       "\t<tr><th scope=row>PC2</th><td> 0.0096362544</td><td> 9.134706e-03</td><td> 0.010137803 </td></tr>\n",
       "\t<tr><th scope=row>PC3</th><td> 0.0100892644</td><td> 9.388230e-03</td><td> 0.010790298 </td></tr>\n",
       "\t<tr><th scope=row>PC4</th><td> 0.0254504986</td><td> 2.455905e-02</td><td> 0.026341948 </td></tr>\n",
       "\t<tr><th scope=row>PC5</th><td> 0.0006606744</td><td>-7.916987e-04</td><td> 0.002113047 </td></tr>\n",
       "\t<tr><th scope=row>PC6</th><td> 0.0141586450</td><td> 1.260118e-02</td><td> 0.015716110 </td></tr>\n",
       "\t<tr><th scope=row>PC7</th><td> 0.0016247680</td><td>-9.230259e-05</td><td> 0.003341839 </td></tr>\n",
       "\t<tr><th scope=row>PC8</th><td> 0.0046994853</td><td> 2.583270e-03</td><td> 0.006815701 </td></tr>\n",
       "\t<tr><th scope=row>PC9</th><td>-0.0062194360</td><td>-8.757317e-03</td><td>-0.003681555 </td></tr>\n",
       "\t<tr><th scope=row>PC10</th><td> 0.0015417238</td><td>-1.261253e-03</td><td> 0.004344700 </td></tr>\n",
       "\t<tr><th scope=row>PC11</th><td>-0.0067079392</td><td>-9.647055e-03</td><td>-0.003768824 </td></tr>\n",
       "\t<tr><th scope=row>PC12</th><td>-0.0151720930</td><td>-1.832520e-02</td><td>-0.012018982 </td></tr>\n",
       "\t<tr><th scope=row>PC13</th><td> 0.0118445724</td><td> 8.394024e-03</td><td> 0.015295121 </td></tr>\n",
       "\t<tr><th scope=row>PC14</th><td>-0.0004810794</td><td>-4.205657e-03</td><td> 0.003243498 </td></tr>\n",
       "\t<tr><th scope=row>PC15</th><td>-0.0072899120</td><td>-1.112713e-02</td><td>-0.003452695 </td></tr>\n",
       "\t<tr><th scope=row>PC16</th><td>-0.0075436184</td><td>-1.204466e-02</td><td>-0.003042580 </td></tr>\n",
       "\t<tr><th scope=row>PC17</th><td> 0.0015784993</td><td>-3.007692e-03</td><td> 0.006164690 </td></tr>\n",
       "</tbody>\n",
       "</table>\n"
      ],
      "text/latex": [
       "\\begin{tabular}{r|lll}\n",
       "  & coef.fit. & X2.5.. & X97.5..\\\\\n",
       "\\hline\n",
       "\t(Intercept) &  0.0643247606 &  5.970599e-02 &  0.068943534 \\\\\n",
       "\tPC1 &  0.0040545357 &  3.766999e-03 &  0.004342073 \\\\\n",
       "\tPC2 &  0.0096362544 &  9.134706e-03 &  0.010137803 \\\\\n",
       "\tPC3 &  0.0100892644 &  9.388230e-03 &  0.010790298 \\\\\n",
       "\tPC4 &  0.0254504986 &  2.455905e-02 &  0.026341948 \\\\\n",
       "\tPC5 &  0.0006606744 & -7.916987e-04 &  0.002113047 \\\\\n",
       "\tPC6 &  0.0141586450 &  1.260118e-02 &  0.015716110 \\\\\n",
       "\tPC7 &  0.0016247680 & -9.230259e-05 &  0.003341839 \\\\\n",
       "\tPC8 &  0.0046994853 &  2.583270e-03 &  0.006815701 \\\\\n",
       "\tPC9 & -0.0062194360 & -8.757317e-03 & -0.003681555 \\\\\n",
       "\tPC10 &  0.0015417238 & -1.261253e-03 &  0.004344700 \\\\\n",
       "\tPC11 & -0.0067079392 & -9.647055e-03 & -0.003768824 \\\\\n",
       "\tPC12 & -0.0151720930 & -1.832520e-02 & -0.012018982 \\\\\n",
       "\tPC13 &  0.0118445724 &  8.394024e-03 &  0.015295121 \\\\\n",
       "\tPC14 & -0.0004810794 & -4.205657e-03 &  0.003243498 \\\\\n",
       "\tPC15 & -0.0072899120 & -1.112713e-02 & -0.003452695 \\\\\n",
       "\tPC16 & -0.0075436184 & -1.204466e-02 & -0.003042580 \\\\\n",
       "\tPC17 &  0.0015784993 & -3.007692e-03 &  0.006164690 \\\\\n",
       "\\end{tabular}\n"
      ],
      "text/markdown": [
       "\n",
       "| <!--/--> | coef.fit. | X2.5.. | X97.5.. | \n",
       "|---|---|---|---|---|---|---|---|---|---|---|---|---|---|---|---|---|---|\n",
       "| (Intercept) |  0.0643247606 |  5.970599e-02 |  0.068943534  | \n",
       "| PC1 |  0.0040545357 |  3.766999e-03 |  0.004342073  | \n",
       "| PC2 |  0.0096362544 |  9.134706e-03 |  0.010137803  | \n",
       "| PC3 |  0.0100892644 |  9.388230e-03 |  0.010790298  | \n",
       "| PC4 |  0.0254504986 |  2.455905e-02 |  0.026341948  | \n",
       "| PC5 |  0.0006606744 | -7.916987e-04 |  0.002113047  | \n",
       "| PC6 |  0.0141586450 |  1.260118e-02 |  0.015716110  | \n",
       "| PC7 |  0.0016247680 | -9.230259e-05 |  0.003341839  | \n",
       "| PC8 |  0.0046994853 |  2.583270e-03 |  0.006815701  | \n",
       "| PC9 | -0.0062194360 | -8.757317e-03 | -0.003681555  | \n",
       "| PC10 |  0.0015417238 | -1.261253e-03 |  0.004344700  | \n",
       "| PC11 | -0.0067079392 | -9.647055e-03 | -0.003768824  | \n",
       "| PC12 | -0.0151720930 | -1.832520e-02 | -0.012018982  | \n",
       "| PC13 |  0.0118445724 |  8.394024e-03 |  0.015295121  | \n",
       "| PC14 | -0.0004810794 | -4.205657e-03 |  0.003243498  | \n",
       "| PC15 | -0.0072899120 | -1.112713e-02 | -0.003452695  | \n",
       "| PC16 | -0.0075436184 | -1.204466e-02 | -0.003042580  | \n",
       "| PC17 |  0.0015784993 | -3.007692e-03 |  0.006164690  | \n",
       "\n",
       "\n"
      ],
      "text/plain": [
       "            coef.fit.     X2.5..        X97.5..     \n",
       "(Intercept)  0.0643247606  5.970599e-02  0.068943534\n",
       "PC1          0.0040545357  3.766999e-03  0.004342073\n",
       "PC2          0.0096362544  9.134706e-03  0.010137803\n",
       "PC3          0.0100892644  9.388230e-03  0.010790298\n",
       "PC4          0.0254504986  2.455905e-02  0.026341948\n",
       "PC5          0.0006606744 -7.916987e-04  0.002113047\n",
       "PC6          0.0141586450  1.260118e-02  0.015716110\n",
       "PC7          0.0016247680 -9.230259e-05  0.003341839\n",
       "PC8          0.0046994853  2.583270e-03  0.006815701\n",
       "PC9         -0.0062194360 -8.757317e-03 -0.003681555\n",
       "PC10         0.0015417238 -1.261253e-03  0.004344700\n",
       "PC11        -0.0067079392 -9.647055e-03 -0.003768824\n",
       "PC12        -0.0151720930 -1.832520e-02 -0.012018982\n",
       "PC13         0.0118445724  8.394024e-03  0.015295121\n",
       "PC14        -0.0004810794 -4.205657e-03  0.003243498\n",
       "PC15        -0.0072899120 -1.112713e-02 -0.003452695\n",
       "PC16        -0.0075436184 -1.204466e-02 -0.003042580\n",
       "PC17         0.0015784993 -3.007692e-03  0.006164690"
      ]
     },
     "metadata": {},
     "output_type": "display_data"
    },
    {
     "data": {
      "text/plain": [
       "\n",
       "Call:\n",
       "lm(formula = temp[, 1] ~ ., data = temp[, 2:18])\n",
       "\n",
       "Residuals:\n",
       "      Min        1Q    Median        3Q       Max \n",
       "-0.051435 -0.015611 -0.001937  0.015751  0.075800 \n",
       "\n",
       "Coefficients:\n",
       "              Estimate Std. Error t value Pr(>|t|)    \n",
       "(Intercept)  0.0643248  0.0023242  27.677  < 2e-16 ***\n",
       "PC1          0.0040545  0.0001447  28.023  < 2e-16 ***\n",
       "PC2          0.0096363  0.0002524  38.182  < 2e-16 ***\n",
       "PC3          0.0100893  0.0003528  28.601  < 2e-16 ***\n",
       "PC4          0.0254505  0.0004486  56.736  < 2e-16 ***\n",
       "PC5          0.0006607  0.0007308   0.904  0.36846    \n",
       "PC6          0.0141586  0.0007837  18.066  < 2e-16 ***\n",
       "PC7          0.0016248  0.0008640   1.880  0.06335 .  \n",
       "PC8          0.0046995  0.0010649   4.413 2.88e-05 ***\n",
       "PC9         -0.0062194  0.0012771  -4.870 4.88e-06 ***\n",
       "PC10         0.0015417  0.0014105   1.093  0.27735    \n",
       "PC11        -0.0067079  0.0014790  -4.536 1.81e-05 ***\n",
       "PC12        -0.0151721  0.0015866  -9.562 2.85e-15 ***\n",
       "PC13         0.0118446  0.0017363   6.822 1.09e-09 ***\n",
       "PC14        -0.0004811  0.0018742  -0.257  0.79802    \n",
       "PC15        -0.0072899  0.0019309  -3.775  0.00029 ***\n",
       "PC16        -0.0075436  0.0022649  -3.331  0.00127 ** \n",
       "PC17         0.0015785  0.0023078   0.684  0.49578    \n",
       "---\n",
       "Signif. codes:  0 '***' 0.001 '**' 0.01 '*' 0.05 '.' 0.1 ' ' 1\n",
       "\n",
       "Residual standard error: 0.02393 on 88 degrees of freedom\n",
       "Multiple R-squared:  0.9873,\tAdjusted R-squared:  0.9848 \n",
       "F-statistic: 402.3 on 17 and 88 DF,  p-value: < 2.2e-16\n"
      ]
     },
     "metadata": {},
     "output_type": "display_data"
    },
    {
     "data": {
      "text/html": [
       "<table>\n",
       "<thead><tr><th scope=col>temp...1.</th><th scope=col>fitted.fit.</th><th scope=col>resid.fit.</th></tr></thead>\n",
       "<tbody>\n",
       "\t<tr><td>-0.06627312  </td><td>-0.05606308  </td><td>-1.021004e-02</td></tr>\n",
       "\t<tr><td>-0.05826701  </td><td>-0.05831372  </td><td> 4.671754e-05</td></tr>\n",
       "\t<tr><td>-0.05026089  </td><td>-0.06644268  </td><td> 1.618179e-02</td></tr>\n",
       "\t<tr><td>-0.04225477  </td><td>-0.06504274  </td><td> 2.278797e-02</td></tr>\n",
       "</tbody>\n",
       "</table>\n"
      ],
      "text/latex": [
       "\\begin{tabular}{r|lll}\n",
       " temp...1. & fitted.fit. & resid.fit.\\\\\n",
       "\\hline\n",
       "\t -0.06627312   & -0.05606308   & -1.021004e-02\\\\\n",
       "\t -0.05826701   & -0.05831372   &  4.671754e-05\\\\\n",
       "\t -0.05026089   & -0.06644268   &  1.618179e-02\\\\\n",
       "\t -0.04225477   & -0.06504274   &  2.278797e-02\\\\\n",
       "\\end{tabular}\n"
      ],
      "text/markdown": [
       "\n",
       "temp...1. | fitted.fit. | resid.fit. | \n",
       "|---|---|---|---|\n",
       "| -0.06627312   | -0.05606308   | -1.021004e-02 | \n",
       "| -0.05826701   | -0.05831372   |  4.671754e-05 | \n",
       "| -0.05026089   | -0.06644268   |  1.618179e-02 | \n",
       "| -0.04225477   | -0.06504274   |  2.278797e-02 | \n",
       "\n",
       "\n"
      ],
      "text/plain": [
       "  temp...1.   fitted.fit. resid.fit.   \n",
       "1 -0.06627312 -0.05606308 -1.021004e-02\n",
       "2 -0.05826701 -0.05831372  4.671754e-05\n",
       "3 -0.05026089 -0.06644268  1.618179e-02\n",
       "4 -0.04225477 -0.06504274  2.278797e-02"
      ]
     },
     "metadata": {},
     "output_type": "display_data"
    },
    {
     "data": {
      "image/png": "[encoded data removed]",
      "text/plain": [
       "Plot with title \"Histogram of res$resid.fit.\""
      ]
     },
     "metadata": {},
     "output_type": "display_data"
    },
    {
     "data": {
      "image/png": "[encoded data removed]",
      "text/plain": [
       "plot without title"
      ]
     },
     "metadata": {},
     "output_type": "display_data"
    }
   ],
   "source": [
    "fit=lm(temp[,1] ~ . , data = temp[,2:18])\n",
    "data.frame(coef(fit),confint(fit))\n",
    "summary(fit)\n",
    "res=data.frame(temp[,1],fitted(fit),resid(fit));head(res,4)\n",
    "hist(res$resid.fit.)\n",
    "plot(res$resid.fit.,res$temp...1.)"
   ]
  },
  {
   "cell_type": "markdown",
   "metadata": {},
   "source": [
    "1. The RFE algorithm indicated PC1,2,3,4,6,10,12 to be significant\n",
    "2. The linear model indicated PC1,2,3,4,6,8,9,11,12,13,15 to be strongly significant (adj. R^2 >98%)"
   ]
  },
  {
   "cell_type": "markdown",
   "metadata": {},
   "source": [
    "### Another way to look at which PCs to take is to compute the posterior probability"
   ]
  },
  {
   "cell_type": "code",
   "execution_count": null,
   "metadata": {},
   "outputs": [],
   "source": [
    "temp = cbind(ABT_dependent, data_final)\n",
    "fit1 <- modelSelection(temp[,1],temp[,-1])\n",
    "head(postProb(fit1))\n",
    "#Here we see that the first 5 principle components deliver the best posterior probability. So we can exclude the rest"
   ]
  },
  {
   "cell_type": "code",
   "execution_count": 20,
   "metadata": {},
   "outputs": [
    {
     "name": "stderr",
     "output_type": "stream",
     "text": [
      " 1. run of importance source...\n",
      " 2. run of importance source...\n",
      " 3. run of importance source...\n",
      " 4. run of importance source...\n",
      " 5. run of importance source...\n",
      " 6. run of importance source...\n",
      " 7. run of importance source...\n",
      " 8. run of importance source...\n",
      " 9. run of importance source...\n",
      " 10. run of importance source...\n",
      " 11. run of importance source...\n",
      "After 11 iterations, +2 secs: \n",
      " confirmed 9 attributes: PC1, PC10, PC12, PC2, PC3 and 4 more;\n",
      " rejected 1 attribute: PC11;\n",
      " still have 7 attributes left.\n",
      "\n",
      " 12. run of importance source...\n",
      " 13. run of importance source...\n",
      " 14. run of importance source...\n",
      " 15. run of importance source...\n",
      "After 15 iterations, +2.6 secs: \n",
      " rejected 2 attributes: PC14, PC16;\n",
      " still have 5 attributes left.\n",
      "\n",
      " 16. run of importance source...\n",
      " 17. run of importance source...\n",
      " 18. run of importance source...\n",
      " 19. run of importance source...\n",
      "After 19 iterations, +3.1 secs: \n",
      " confirmed 1 attribute: PC8;\n",
      " still have 4 attributes left.\n",
      "\n",
      " 20. run of importance source...\n",
      " 21. run of importance source...\n",
      " 22. run of importance source...\n",
      "After 22 iterations, +3.4 secs: \n",
      " rejected 1 attribute: PC9;\n",
      " still have 3 attributes left.\n",
      "\n",
      " 23. run of importance source...\n",
      " 24. run of importance source...\n",
      " 25. run of importance source...\n",
      " 26. run of importance source...\n",
      " 27. run of importance source...\n",
      " 28. run of importance source...\n",
      " 29. run of importance source...\n",
      " 30. run of importance source...\n",
      " 31. run of importance source...\n",
      " 32. run of importance source...\n",
      " 33. run of importance source...\n",
      " 34. run of importance source...\n",
      "After 34 iterations, +4.7 secs: \n",
      " rejected 1 attribute: PC17;\n",
      " still have 2 attributes left.\n",
      "\n",
      " 35. run of importance source...\n",
      " 36. run of importance source...\n",
      " 37. run of importance source...\n",
      " 38. run of importance source...\n",
      " 39. run of importance source...\n",
      " 40. run of importance source...\n",
      " 41. run of importance source...\n",
      " 42. run of importance source...\n",
      " 43. run of importance source...\n",
      " 44. run of importance source...\n",
      " 45. run of importance source...\n",
      " 46. run of importance source...\n",
      " 47. run of importance source...\n",
      " 48. run of importance source...\n",
      " 49. run of importance source...\n",
      " 50. run of importance source...\n",
      " 51. run of importance source...\n",
      " 52. run of importance source...\n",
      " 53. run of importance source...\n",
      " 54. run of importance source...\n",
      " 55. run of importance source...\n",
      " 56. run of importance source...\n",
      " 57. run of importance source...\n",
      " 58. run of importance source...\n",
      " 59. run of importance source...\n",
      " 60. run of importance source...\n",
      " 61. run of importance source...\n",
      " 62. run of importance source...\n",
      " 63. run of importance source...\n",
      " 64. run of importance source...\n",
      " 65. run of importance source...\n",
      "After 65 iterations, +7.5 secs: \n",
      " confirmed 1 attribute: PC15;\n",
      " still have 1 attribute left.\n",
      "\n",
      " 66. run of importance source...\n",
      " 67. run of importance source...\n",
      " 68. run of importance source...\n",
      " 69. run of importance source...\n",
      " 70. run of importance source...\n",
      " 71. run of importance source...\n",
      " 72. run of importance source...\n",
      " 73. run of importance source...\n",
      " 74. run of importance source...\n",
      " 75. run of importance source...\n",
      " 76. run of importance source...\n",
      " 77. run of importance source...\n",
      " 78. run of importance source...\n",
      " 79. run of importance source...\n",
      " 80. run of importance source...\n",
      " 81. run of importance source...\n",
      " 82. run of importance source...\n",
      " 83. run of importance source...\n",
      " 84. run of importance source...\n",
      " 85. run of importance source...\n",
      " 86. run of importance source...\n",
      " 87. run of importance source...\n",
      " 88. run of importance source...\n",
      " 89. run of importance source...\n",
      " 90. run of importance source...\n",
      " 91. run of importance source...\n",
      " 92. run of importance source...\n",
      " 93. run of importance source...\n",
      " 94. run of importance source...\n",
      " 95. run of importance source...\n",
      " 96. run of importance source...\n",
      " 97. run of importance source...\n",
      " 98. run of importance source...\n",
      " 99. run of importance source...\n"
     ]
    }
   ],
   "source": [
    "# Decide if a variable is important or not using Boruta\n",
    "boruta_output <- Boruta(temp[,1] ~ ., data=na.omit(temp[,-1]), doTrace=2)  # perform Boruta search\n",
    "boruta_signif <- names(boruta_output$finalDecision[boruta_output$finalDecision %in% c(\"Confirmed\", \"Tentative\")])  # collect Confirmed and Tentative variables\n"
   ]
  },
  {
   "cell_type": "code",
   "execution_count": 21,
   "metadata": {},
   "outputs": [
    {
     "name": "stdout",
     "output_type": "stream",
     "text": [
      " [1] \"PC1\"  \"PC2\"  \"PC3\"  \"PC4\"  \"PC5\"  \"PC6\"  \"PC7\"  \"PC8\"  \"PC10\" \"PC12\"\n",
      "[11] \"PC13\" \"PC15\"\n"
     ]
    },
    {
     "data": {
      "image/png": "[encoded data removed]",
      "text/plain": [
       "Plot with title \"Variable Importance\""
      ]
     },
     "metadata": {},
     "output_type": "display_data"
    }
   ],
   "source": [
    "print(boruta_signif)  # significant variables\n",
    "plot(boruta_output, cex.axis=.7, las=2, xlab=\"\", main=\"Variable Importance\")  # plot variable importance\n",
    "#PC8,9,10,11 rejected"
   ]
  },
  {
   "cell_type": "markdown",
   "metadata": {},
   "source": [
    "### Finally the results of the Boruta algorithm seem to indicate that almost all PC are significant except a chosen few (see results above)"
   ]
  },
  {
   "cell_type": "code",
   "execution_count": 22,
   "metadata": {},
   "outputs": [],
   "source": [
    "#Now we make a decision and select the PCs that we seem appropriate\n",
    "data_final = data_final %>%\n",
    "select(\"PC1\",  \"PC2\",  \"PC3\",  \"PC4\",  \"PC5\",  \"PC6\",  \"PC7\",  \"PC8\",  \"PC10\", \"PC12\",\"PC13\", \"PC15\")\n"
   ]
  },
  {
   "cell_type": "code",
   "execution_count": 23,
   "metadata": {},
   "outputs": [],
   "source": [
    "preprocessed_data = cbind(ABT_clean$Date,ABT_dependent,data_final)\n",
    "names(preprocessed_data) = c(names(ABT_clean)[1],names(ABT_dependent), names(data_final) )"
   ]
  },
  {
   "cell_type": "code",
   "execution_count": 24,
   "metadata": {},
   "outputs": [
    {
     "data": {
      "text/html": [
       "<table>\n",
       "<thead><tr><th scope=col>Date</th><th scope=col>pre_44_CRPh_delta_LogitPD</th><th scope=col>PC1</th><th scope=col>PC2</th><th scope=col>PC3</th><th scope=col>PC4</th><th scope=col>PC5</th><th scope=col>PC6</th><th scope=col>PC7</th><th scope=col>PC8</th><th scope=col>PC10</th><th scope=col>PC12</th><th scope=col>PC13</th><th scope=col>PC15</th></tr></thead>\n",
       "<tbody>\n",
       "\t<tr><td>2016-06-30  </td><td>-0.06627312 </td><td>-25.32335   </td><td>-2.714677   </td><td> 7.662062   </td><td>-2.0629316  </td><td>2.492621    </td><td>-2.159775   </td><td> 2.6243371  </td><td>-3.862366   </td><td>0.5927015   </td><td> 0.7480910  </td><td>-0.10635479 </td><td>-0.118355432</td></tr>\n",
       "\t<tr><td>2016-05-31  </td><td>-0.05826701 </td><td>-24.20842   </td><td>-4.234424   </td><td> 8.512948   </td><td>-0.8495366  </td><td>2.187867    </td><td>-2.336764   </td><td> 1.2590291  </td><td>-4.383409   </td><td>0.1877023   </td><td> 0.5002253  </td><td>-0.63437313 </td><td> 0.819959361</td></tr>\n",
       "\t<tr><td>2016-04-30  </td><td>-0.05026089 </td><td>-23.46424   </td><td>-4.035924   </td><td> 7.439302   </td><td>-1.0105495  </td><td>2.139154    </td><td>-2.288762   </td><td> 0.8421565  </td><td>-4.530246   </td><td>0.1747278   </td><td> 0.3675362  </td><td>-0.85803219 </td><td> 0.532513352</td></tr>\n",
       "\t<tr><td>2016-03-31  </td><td>-0.04225477 </td><td>-23.64910   </td><td>-3.741338   </td><td> 8.435179   </td><td>-1.1239752  </td><td>2.392398    </td><td>-2.652856   </td><td>-0.1959141  </td><td>-4.433293   </td><td>0.8908032   </td><td>-0.1331091  </td><td>-1.72896836 </td><td> 0.110740205</td></tr>\n",
       "\t<tr><td>2016-02-29  </td><td>-0.03731459 </td><td>-23.21657   </td><td>-2.678558   </td><td> 9.825805   </td><td>-3.1091132  </td><td>3.549999    </td><td>-1.542833   </td><td> 1.7694982  </td><td>-3.443088   </td><td>1.6628592   </td><td> 0.5658642  </td><td> 0.06547134 </td><td> 0.003059274</td></tr>\n",
       "\t<tr><td>2016-01-31  </td><td>-0.03237442 </td><td>-22.21431   </td><td>-4.028633   </td><td>10.640222   </td><td>-2.6929828  </td><td>3.716776    </td><td>-0.361039   </td><td> 1.9514320  </td><td>-3.012097   </td><td>1.9058893   </td><td> 1.6595474  </td><td> 2.72360546 </td><td> 0.990445839</td></tr>\n",
       "</tbody>\n",
       "</table>\n"
      ],
      "text/latex": [
       "\\begin{tabular}{r|llllllllllllll}\n",
       " Date & pre\\_44\\_CRPh\\_delta\\_LogitPD & PC1 & PC2 & PC3 & PC4 & PC5 & PC6 & PC7 & PC8 & PC10 & PC12 & PC13 & PC15\\\\\n",
       "\\hline\n",
       "\t 2016-06-30   & -0.06627312  & -25.32335    & -2.714677    &  7.662062    & -2.0629316   & 2.492621     & -2.159775    &  2.6243371   & -3.862366    & 0.5927015    &  0.7480910   & -0.10635479  & -0.118355432\\\\\n",
       "\t 2016-05-31   & -0.05826701  & -24.20842    & -4.234424    &  8.512948    & -0.8495366   & 2.187867     & -2.336764    &  1.2590291   & -4.383409    & 0.1877023    &  0.5002253   & -0.63437313  &  0.819959361\\\\\n",
       "\t 2016-04-30   & -0.05026089  & -23.46424    & -4.035924    &  7.439302    & -1.0105495   & 2.139154     & -2.288762    &  0.8421565   & -4.530246    & 0.1747278    &  0.3675362   & -0.85803219  &  0.532513352\\\\\n",
       "\t 2016-03-31   & -0.04225477  & -23.64910    & -3.741338    &  8.435179    & -1.1239752   & 2.392398     & -2.652856    & -0.1959141   & -4.433293    & 0.8908032    & -0.1331091   & -1.72896836  &  0.110740205\\\\\n",
       "\t 2016-02-29   & -0.03731459  & -23.21657    & -2.678558    &  9.825805    & -3.1091132   & 3.549999     & -1.542833    &  1.7694982   & -3.443088    & 1.6628592    &  0.5658642   &  0.06547134  &  0.003059274\\\\\n",
       "\t 2016-01-31   & -0.03237442  & -22.21431    & -4.028633    & 10.640222    & -2.6929828   & 3.716776     & -0.361039    &  1.9514320   & -3.012097    & 1.9058893    &  1.6595474   &  2.72360546  &  0.990445839\\\\\n",
       "\\end{tabular}\n"
      ],
      "text/markdown": [
       "\n",
       "Date | pre_44_CRPh_delta_LogitPD | PC1 | PC2 | PC3 | PC4 | PC5 | PC6 | PC7 | PC8 | PC10 | PC12 | PC13 | PC15 | \n",
       "|---|---|---|---|---|---|\n",
       "| 2016-06-30   | -0.06627312  | -25.32335    | -2.714677    |  7.662062    | -2.0629316   | 2.492621     | -2.159775    |  2.6243371   | -3.862366    | 0.5927015    |  0.7480910   | -0.10635479  | -0.118355432 | \n",
       "| 2016-05-31   | -0.05826701  | -24.20842    | -4.234424    |  8.512948    | -0.8495366   | 2.187867     | -2.336764    |  1.2590291   | -4.383409    | 0.1877023    |  0.5002253   | -0.63437313  |  0.819959361 | \n",
       "| 2016-04-30   | -0.05026089  | -23.46424    | -4.035924    |  7.439302    | -1.0105495   | 2.139154     | -2.288762    |  0.8421565   | -4.530246    | 0.1747278    |  0.3675362   | -0.85803219  |  0.532513352 | \n",
       "| 2016-03-31   | -0.04225477  | -23.64910    | -3.741338    |  8.435179    | -1.1239752   | 2.392398     | -2.652856    | -0.1959141   | -4.433293    | 0.8908032    | -0.1331091   | -1.72896836  |  0.110740205 | \n",
       "| 2016-02-29   | -0.03731459  | -23.21657    | -2.678558    |  9.825805    | -3.1091132   | 3.549999     | -1.542833    |  1.7694982   | -3.443088    | 1.6628592    |  0.5658642   |  0.06547134  |  0.003059274 | \n",
       "| 2016-01-31   | -0.03237442  | -22.21431    | -4.028633    | 10.640222    | -2.6929828   | 3.716776     | -0.361039    |  1.9514320   | -3.012097    | 1.9058893    |  1.6595474   |  2.72360546  |  0.990445839 | \n",
       "\n",
       "\n"
      ],
      "text/plain": [
       "  Date       pre_44_CRPh_delta_LogitPD PC1       PC2       PC3       PC4       \n",
       "1 2016-06-30 -0.06627312               -25.32335 -2.714677  7.662062 -2.0629316\n",
       "2 2016-05-31 -0.05826701               -24.20842 -4.234424  8.512948 -0.8495366\n",
       "3 2016-04-30 -0.05026089               -23.46424 -4.035924  7.439302 -1.0105495\n",
       "4 2016-03-31 -0.04225477               -23.64910 -3.741338  8.435179 -1.1239752\n",
       "5 2016-02-29 -0.03731459               -23.21657 -2.678558  9.825805 -3.1091132\n",
       "6 2016-01-31 -0.03237442               -22.21431 -4.028633 10.640222 -2.6929828\n",
       "  PC5      PC6       PC7        PC8       PC10      PC12       PC13       \n",
       "1 2.492621 -2.159775  2.6243371 -3.862366 0.5927015  0.7480910 -0.10635479\n",
       "2 2.187867 -2.336764  1.2590291 -4.383409 0.1877023  0.5002253 -0.63437313\n",
       "3 2.139154 -2.288762  0.8421565 -4.530246 0.1747278  0.3675362 -0.85803219\n",
       "4 2.392398 -2.652856 -0.1959141 -4.433293 0.8908032 -0.1331091 -1.72896836\n",
       "5 3.549999 -1.542833  1.7694982 -3.443088 1.6628592  0.5658642  0.06547134\n",
       "6 3.716776 -0.361039  1.9514320 -3.012097 1.9058893  1.6595474  2.72360546\n",
       "  PC15        \n",
       "1 -0.118355432\n",
       "2  0.819959361\n",
       "3  0.532513352\n",
       "4  0.110740205\n",
       "5  0.003059274\n",
       "6  0.990445839"
      ]
     },
     "metadata": {},
     "output_type": "display_data"
    }
   ],
   "source": [
    "head(preprocessed_data)"
   ]
  },
  {
   "cell_type": "code",
   "execution_count": 26,
   "metadata": {},
   "outputs": [],
   "source": [
    "#Save file\n",
    "write.csv(preprocessed_data,\"preprocessed_data.csv\",row.names=FALSE)"
   ]
  },
  {
   "cell_type": "code",
   "execution_count": null,
   "metadata": {},
   "outputs": [],
   "source": [
    "#END"
   ]
  },
  {
   "cell_type": "code",
   "execution_count": null,
   "metadata": {},
   "outputs": [],
   "source": []
  },
  {
   "cell_type": "markdown",
   "metadata": {},
   "source": [
    "# Try out Prophet from FB (move to 2_models once done)"
   ]
  },
  {
   "cell_type": "code",
   "execution_count": 27,
   "metadata": {},
   "outputs": [
    {
     "data": {
      "text/html": [
       "<table>\n",
       "<thead><tr><th scope=col>ds</th><th scope=col>y</th></tr></thead>\n",
       "<tbody>\n",
       "\t<tr><td>2016-06-30 </td><td>-0.06627312</td></tr>\n",
       "\t<tr><td>2016-05-31 </td><td>-0.05826701</td></tr>\n",
       "\t<tr><td>2016-04-30 </td><td>-0.05026089</td></tr>\n",
       "\t<tr><td>2016-03-31 </td><td>-0.04225477</td></tr>\n",
       "\t<tr><td>2016-02-29 </td><td>-0.03731459</td></tr>\n",
       "\t<tr><td>2016-01-31 </td><td>-0.03237442</td></tr>\n",
       "</tbody>\n",
       "</table>\n"
      ],
      "text/latex": [
       "\\begin{tabular}{r|ll}\n",
       " ds & y\\\\\n",
       "\\hline\n",
       "\t 2016-06-30  & -0.06627312\\\\\n",
       "\t 2016-05-31  & -0.05826701\\\\\n",
       "\t 2016-04-30  & -0.05026089\\\\\n",
       "\t 2016-03-31  & -0.04225477\\\\\n",
       "\t 2016-02-29  & -0.03731459\\\\\n",
       "\t 2016-01-31  & -0.03237442\\\\\n",
       "\\end{tabular}\n"
      ],
      "text/markdown": [
       "\n",
       "ds | y | \n",
       "|---|---|---|---|---|---|\n",
       "| 2016-06-30  | -0.06627312 | \n",
       "| 2016-05-31  | -0.05826701 | \n",
       "| 2016-04-30  | -0.05026089 | \n",
       "| 2016-03-31  | -0.04225477 | \n",
       "| 2016-02-29  | -0.03731459 | \n",
       "| 2016-01-31  | -0.03237442 | \n",
       "\n",
       "\n"
      ],
      "text/plain": [
       "  ds         y          \n",
       "1 2016-06-30 -0.06627312\n",
       "2 2016-05-31 -0.05826701\n",
       "3 2016-04-30 -0.05026089\n",
       "4 2016-03-31 -0.04225477\n",
       "5 2016-02-29 -0.03731459\n",
       "6 2016-01-31 -0.03237442"
      ]
     },
     "metadata": {},
     "output_type": "display_data"
    },
    {
     "data": {
      "text/plain": [
       "       ds                   y           \n",
       " Min.   :2007-09-30   Min.   :-0.28111  \n",
       " 1st Qu.:2009-12-07   1st Qu.:-0.03312  \n",
       " Median :2012-02-14   Median : 0.01610  \n",
       " Mean   :2012-02-14   Mean   : 0.06432  \n",
       " 3rd Qu.:2014-04-22   3rd Qu.: 0.10342  \n",
       " Max.   :2016-06-30   Max.   : 0.55352  "
      ]
     },
     "metadata": {},
     "output_type": "display_data"
    },
    {
     "data": {
      "image/png": "[encoded data removed]",
      "text/plain": [
       "plot without title"
      ]
     },
     "metadata": {},
     "output_type": "display_data"
    }
   ],
   "source": [
    "df = ABT %>%\n",
    "select(contains(\"Date\"), contains(\"pre_44_CRPh_delta_LogitPD\"))%>%\n",
    "na.omit()\n",
    "\n",
    "colnames(df) <- c(\"ds\", \"y\")\n",
    "head(df)\n",
    "\n",
    "summary(df)\n",
    "plot(y ~ ds, df, type = \"l\")"
   ]
  },
  {
   "cell_type": "code",
   "execution_count": 30,
   "metadata": {},
   "outputs": [
    {
     "name": "stderr",
     "output_type": "stream",
     "text": [
      "Disabling weekly seasonality. Run prophet with weekly.seasonality=TRUE to override this.\n",
      "Disabling daily seasonality. Run prophet with daily.seasonality=TRUE to override this.\n"
     ]
    },
    {
     "name": "stdout",
     "output_type": "stream",
     "text": [
      "Initial log joint probability = -10.9789\n",
      "Optimization terminated normally: \n",
      "  Convergence detected: absolute parameter change was below tolerance\n"
     ]
    },
    {
     "data": {},
     "metadata": {},
     "output_type": "display_data"
    },
    {
     "data": {
      "text/html": [
       "<table>\n",
       "<thead><tr><th></th><th scope=col>ds</th><th scope=col>yhat</th><th scope=col>yhat_lower</th><th scope=col>yhat_upper</th></tr></thead>\n",
       "<tbody>\n",
       "\t<tr><th scope=row>113</th><td>2016-07-07 </td><td>-0.05378026</td><td>-0.2817535 </td><td>0.1724534  </td></tr>\n",
       "\t<tr><th scope=row>114</th><td>2016-07-08 </td><td>-0.05315032</td><td>-0.2824235 </td><td>0.1661699  </td></tr>\n",
       "\t<tr><th scope=row>115</th><td>2016-07-09 </td><td>-0.05252889</td><td>-0.2997797 </td><td>0.1719068  </td></tr>\n",
       "\t<tr><th scope=row>116</th><td>2016-07-10 </td><td>-0.05193976</td><td>-0.2892113 </td><td>0.1667699  </td></tr>\n",
       "\t<tr><th scope=row>117</th><td>2016-07-11 </td><td>-0.05140354</td><td>-0.2990659 </td><td>0.1670073  </td></tr>\n",
       "\t<tr><th scope=row>118</th><td>2016-07-12 </td><td>-0.05093704</td><td>-0.2785155 </td><td>0.1873035  </td></tr>\n",
       "</tbody>\n",
       "</table>\n"
      ],
      "text/latex": [
       "\\begin{tabular}{r|llll}\n",
       "  & ds & yhat & yhat\\_lower & yhat\\_upper\\\\\n",
       "\\hline\n",
       "\t113 & 2016-07-07  & -0.05378026 & -0.2817535  & 0.1724534  \\\\\n",
       "\t114 & 2016-07-08  & -0.05315032 & -0.2824235  & 0.1661699  \\\\\n",
       "\t115 & 2016-07-09  & -0.05252889 & -0.2997797  & 0.1719068  \\\\\n",
       "\t116 & 2016-07-10  & -0.05193976 & -0.2892113  & 0.1667699  \\\\\n",
       "\t117 & 2016-07-11  & -0.05140354 & -0.2990659  & 0.1670073  \\\\\n",
       "\t118 & 2016-07-12  & -0.05093704 & -0.2785155  & 0.1873035  \\\\\n",
       "\\end{tabular}\n"
      ],
      "text/markdown": [
       "\n",
       "| <!--/--> | ds | yhat | yhat_lower | yhat_upper | \n",
       "|---|---|---|---|---|---|\n",
       "| 113 | 2016-07-07  | -0.05378026 | -0.2817535  | 0.1724534   | \n",
       "| 114 | 2016-07-08  | -0.05315032 | -0.2824235  | 0.1661699   | \n",
       "| 115 | 2016-07-09  | -0.05252889 | -0.2997797  | 0.1719068   | \n",
       "| 116 | 2016-07-10  | -0.05193976 | -0.2892113  | 0.1667699   | \n",
       "| 117 | 2016-07-11  | -0.05140354 | -0.2990659  | 0.1670073   | \n",
       "| 118 | 2016-07-12  | -0.05093704 | -0.2785155  | 0.1873035   | \n",
       "\n",
       "\n"
      ],
      "text/plain": [
       "    ds         yhat        yhat_lower yhat_upper\n",
       "113 2016-07-07 -0.05378026 -0.2817535 0.1724534 \n",
       "114 2016-07-08 -0.05315032 -0.2824235 0.1661699 \n",
       "115 2016-07-09 -0.05252889 -0.2997797 0.1719068 \n",
       "116 2016-07-10 -0.05193976 -0.2892113 0.1667699 \n",
       "117 2016-07-11 -0.05140354 -0.2990659 0.1670073 \n",
       "118 2016-07-12 -0.05093704 -0.2785155 0.1873035 "
      ]
     },
     "metadata": {},
     "output_type": "display_data"
    },
    {
     "data": {
      "image/png": "[encoded data removed]",
      "text/plain": [
       "plot without title"
      ]
     },
     "metadata": {},
     "output_type": "display_data"
    }
   ],
   "source": [
    "m <- prophet(df)\n",
    "future <- make_future_dataframe(m, periods = 12)\n",
    "forecast <- predict(m, future)\n",
    "\n",
    "plot(m, forecast)\n",
    "tail(forecast[c('ds', 'yhat', 'yhat_lower', 'yhat_upper')])"
   ]
  },
  {
   "cell_type": "code",
   "execution_count": 31,
   "metadata": {},
   "outputs": [
    {
     "data": {
      "text/html": [
       "<table>\n",
       "<thead><tr><th></th><th scope=col>ds</th><th scope=col>trend</th><th scope=col>seasonal</th><th scope=col>seasonal_lower</th><th scope=col>seasonal_upper</th><th scope=col>seasonalities</th><th scope=col>seasonalities_lower</th><th scope=col>seasonalities_upper</th><th scope=col>yearly</th><th scope=col>yearly_lower</th><th scope=col>yearly_upper</th><th scope=col>yhat_lower</th><th scope=col>yhat_upper</th><th scope=col>trend_lower</th><th scope=col>trend_upper</th><th scope=col>yhat</th></tr></thead>\n",
       "<tbody>\n",
       "\t<tr><th scope=row>113</th><td>2016-07-07 </td><td>-0.06267813</td><td>0.008897870</td><td>0.008897870</td><td>0.008897870</td><td>0.008897870</td><td>0.008897870</td><td>0.008897870</td><td>0.008897870</td><td>0.008897870</td><td>0.008897870</td><td>-0.2817535 </td><td>0.1724534  </td><td>-0.06267813</td><td>-0.06267813</td><td>-0.05378026</td></tr>\n",
       "\t<tr><th scope=row>114</th><td>2016-07-08 </td><td>-0.06275618</td><td>0.009605861</td><td>0.009605861</td><td>0.009605861</td><td>0.009605861</td><td>0.009605861</td><td>0.009605861</td><td>0.009605861</td><td>0.009605861</td><td>0.009605861</td><td>-0.2824235 </td><td>0.1661699  </td><td>-0.06275618</td><td>-0.06275618</td><td>-0.05315032</td></tr>\n",
       "\t<tr><th scope=row>115</th><td>2016-07-09 </td><td>-0.06283423</td><td>0.010305348</td><td>0.010305348</td><td>0.010305348</td><td>0.010305348</td><td>0.010305348</td><td>0.010305348</td><td>0.010305348</td><td>0.010305348</td><td>0.010305348</td><td>-0.2997797 </td><td>0.1719068  </td><td>-0.06283423</td><td>-0.06283423</td><td>-0.05252889</td></tr>\n",
       "\t<tr><th scope=row>116</th><td>2016-07-10 </td><td>-0.06291229</td><td>0.010972520</td><td>0.010972520</td><td>0.010972520</td><td>0.010972520</td><td>0.010972520</td><td>0.010972520</td><td>0.010972520</td><td>0.010972520</td><td>0.010972520</td><td>-0.2892113 </td><td>0.1667699  </td><td>-0.06291229</td><td>-0.06291229</td><td>-0.05193976</td></tr>\n",
       "\t<tr><th scope=row>117</th><td>2016-07-11 </td><td>-0.06299034</td><td>0.011586792</td><td>0.011586792</td><td>0.011586792</td><td>0.011586792</td><td>0.011586792</td><td>0.011586792</td><td>0.011586792</td><td>0.011586792</td><td>0.011586792</td><td>-0.2990659 </td><td>0.1670073  </td><td>-0.06299034</td><td>-0.06299034</td><td>-0.05140354</td></tr>\n",
       "\t<tr><th scope=row>118</th><td>2016-07-12 </td><td>-0.06306839</td><td>0.012131352</td><td>0.012131352</td><td>0.012131352</td><td>0.012131352</td><td>0.012131352</td><td>0.012131352</td><td>0.012131352</td><td>0.012131352</td><td>0.012131352</td><td>-0.2785155 </td><td>0.1873035  </td><td>-0.06306839</td><td>-0.06306839</td><td>-0.05093704</td></tr>\n",
       "</tbody>\n",
       "</table>\n"
      ],
      "text/latex": [
       "\\begin{tabular}{r|llllllllllllllll}\n",
       "  & ds & trend & seasonal & seasonal\\_lower & seasonal\\_upper & seasonalities & seasonalities\\_lower & seasonalities\\_upper & yearly & yearly\\_lower & yearly\\_upper & yhat\\_lower & yhat\\_upper & trend\\_lower & trend\\_upper & yhat\\\\\n",
       "\\hline\n",
       "\t113 & 2016-07-07  & -0.06267813 & 0.008897870 & 0.008897870 & 0.008897870 & 0.008897870 & 0.008897870 & 0.008897870 & 0.008897870 & 0.008897870 & 0.008897870 & -0.2817535  & 0.1724534   & -0.06267813 & -0.06267813 & -0.05378026\\\\\n",
       "\t114 & 2016-07-08  & -0.06275618 & 0.009605861 & 0.009605861 & 0.009605861 & 0.009605861 & 0.009605861 & 0.009605861 & 0.009605861 & 0.009605861 & 0.009605861 & -0.2824235  & 0.1661699   & -0.06275618 & -0.06275618 & -0.05315032\\\\\n",
       "\t115 & 2016-07-09  & -0.06283423 & 0.010305348 & 0.010305348 & 0.010305348 & 0.010305348 & 0.010305348 & 0.010305348 & 0.010305348 & 0.010305348 & 0.010305348 & -0.2997797  & 0.1719068   & -0.06283423 & -0.06283423 & -0.05252889\\\\\n",
       "\t116 & 2016-07-10  & -0.06291229 & 0.010972520 & 0.010972520 & 0.010972520 & 0.010972520 & 0.010972520 & 0.010972520 & 0.010972520 & 0.010972520 & 0.010972520 & -0.2892113  & 0.1667699   & -0.06291229 & -0.06291229 & -0.05193976\\\\\n",
       "\t117 & 2016-07-11  & -0.06299034 & 0.011586792 & 0.011586792 & 0.011586792 & 0.011586792 & 0.011586792 & 0.011586792 & 0.011586792 & 0.011586792 & 0.011586792 & -0.2990659  & 0.1670073   & -0.06299034 & -0.06299034 & -0.05140354\\\\\n",
       "\t118 & 2016-07-12  & -0.06306839 & 0.012131352 & 0.012131352 & 0.012131352 & 0.012131352 & 0.012131352 & 0.012131352 & 0.012131352 & 0.012131352 & 0.012131352 & -0.2785155  & 0.1873035   & -0.06306839 & -0.06306839 & -0.05093704\\\\\n",
       "\\end{tabular}\n"
      ],
      "text/markdown": [
       "\n",
       "| <!--/--> | ds | trend | seasonal | seasonal_lower | seasonal_upper | seasonalities | seasonalities_lower | seasonalities_upper | yearly | yearly_lower | yearly_upper | yhat_lower | yhat_upper | trend_lower | trend_upper | yhat | \n",
       "|---|---|---|---|---|---|\n",
       "| 113 | 2016-07-07  | -0.06267813 | 0.008897870 | 0.008897870 | 0.008897870 | 0.008897870 | 0.008897870 | 0.008897870 | 0.008897870 | 0.008897870 | 0.008897870 | -0.2817535  | 0.1724534   | -0.06267813 | -0.06267813 | -0.05378026 | \n",
       "| 114 | 2016-07-08  | -0.06275618 | 0.009605861 | 0.009605861 | 0.009605861 | 0.009605861 | 0.009605861 | 0.009605861 | 0.009605861 | 0.009605861 | 0.009605861 | -0.2824235  | 0.1661699   | -0.06275618 | -0.06275618 | -0.05315032 | \n",
       "| 115 | 2016-07-09  | -0.06283423 | 0.010305348 | 0.010305348 | 0.010305348 | 0.010305348 | 0.010305348 | 0.010305348 | 0.010305348 | 0.010305348 | 0.010305348 | -0.2997797  | 0.1719068   | -0.06283423 | -0.06283423 | -0.05252889 | \n",
       "| 116 | 2016-07-10  | -0.06291229 | 0.010972520 | 0.010972520 | 0.010972520 | 0.010972520 | 0.010972520 | 0.010972520 | 0.010972520 | 0.010972520 | 0.010972520 | -0.2892113  | 0.1667699   | -0.06291229 | -0.06291229 | -0.05193976 | \n",
       "| 117 | 2016-07-11  | -0.06299034 | 0.011586792 | 0.011586792 | 0.011586792 | 0.011586792 | 0.011586792 | 0.011586792 | 0.011586792 | 0.011586792 | 0.011586792 | -0.2990659  | 0.1670073   | -0.06299034 | -0.06299034 | -0.05140354 | \n",
       "| 118 | 2016-07-12  | -0.06306839 | 0.012131352 | 0.012131352 | 0.012131352 | 0.012131352 | 0.012131352 | 0.012131352 | 0.012131352 | 0.012131352 | 0.012131352 | -0.2785155  | 0.1873035   | -0.06306839 | -0.06306839 | -0.05093704 | \n",
       "\n",
       "\n"
      ],
      "text/plain": [
       "    ds         trend       seasonal    seasonal_lower seasonal_upper\n",
       "113 2016-07-07 -0.06267813 0.008897870 0.008897870    0.008897870   \n",
       "114 2016-07-08 -0.06275618 0.009605861 0.009605861    0.009605861   \n",
       "115 2016-07-09 -0.06283423 0.010305348 0.010305348    0.010305348   \n",
       "116 2016-07-10 -0.06291229 0.010972520 0.010972520    0.010972520   \n",
       "117 2016-07-11 -0.06299034 0.011586792 0.011586792    0.011586792   \n",
       "118 2016-07-12 -0.06306839 0.012131352 0.012131352    0.012131352   \n",
       "    seasonalities seasonalities_lower seasonalities_upper yearly     \n",
       "113 0.008897870   0.008897870         0.008897870         0.008897870\n",
       "114 0.009605861   0.009605861         0.009605861         0.009605861\n",
       "115 0.010305348   0.010305348         0.010305348         0.010305348\n",
       "116 0.010972520   0.010972520         0.010972520         0.010972520\n",
       "117 0.011586792   0.011586792         0.011586792         0.011586792\n",
       "118 0.012131352   0.012131352         0.012131352         0.012131352\n",
       "    yearly_lower yearly_upper yhat_lower yhat_upper trend_lower trend_upper\n",
       "113 0.008897870  0.008897870  -0.2817535 0.1724534  -0.06267813 -0.06267813\n",
       "114 0.009605861  0.009605861  -0.2824235 0.1661699  -0.06275618 -0.06275618\n",
       "115 0.010305348  0.010305348  -0.2997797 0.1719068  -0.06283423 -0.06283423\n",
       "116 0.010972520  0.010972520  -0.2892113 0.1667699  -0.06291229 -0.06291229\n",
       "117 0.011586792  0.011586792  -0.2990659 0.1670073  -0.06299034 -0.06299034\n",
       "118 0.012131352  0.012131352  -0.2785155 0.1873035  -0.06306839 -0.06306839\n",
       "    yhat       \n",
       "113 -0.05378026\n",
       "114 -0.05315032\n",
       "115 -0.05252889\n",
       "116 -0.05193976\n",
       "117 -0.05140354\n",
       "118 -0.05093704"
      ]
     },
     "metadata": {},
     "output_type": "display_data"
    },
    {
     "data": {
      "image/png": "[encoded data removed]",
      "text/plain": [
       "plot without title"
      ]
     },
     "metadata": {},
     "output_type": "display_data"
    }
   ],
   "source": [
    "tail(forecast)\n",
    "prophet_plot_components(m, forecast)"
   ]
  },
  {
   "cell_type": "markdown",
   "metadata": {},
   "source": [
    "## Bonus: Check time series for dependent variable and features"
   ]
  },
  {
   "cell_type": "markdown",
   "metadata": {},
   "source": [
    "#### Time series could be decomposed into three components. These three components are the trend0cycle, the seasonal component and random component, which are denoted as T_t, S_t and R_t respectively, with the original time series denoted by Yt_. We could write the time series Y_t as a functon of these components:"
   ]
  },
  {
   "cell_type": "code",
   "execution_count": 39,
   "metadata": {},
   "outputs": [
    {
     "data": {
      "image/png": "[encoded data removed]",
      "text/plain": [
       "plot without title"
      ]
     },
     "metadata": {},
     "output_type": "display_data"
    }
   ],
   "source": [
    "ABT_dependent_ts= ts(ABT_dependent,frequency = 12,start = c(2007,9) )\n",
    "plot(decompose(ABT_dependent_ts))"
   ]
  },
  {
   "cell_type": "code",
   "execution_count": 54,
   "metadata": {},
   "outputs": [
    {
     "data": {
      "text/html": [
       "0.0266482071045481"
      ],
      "text/latex": [
       "0.0266482071045481"
      ],
      "text/markdown": [
       "0.0266482071045481"
      ],
      "text/plain": [
       "[1] 0.02664821"
      ]
     },
     "metadata": {},
     "output_type": "display_data"
    }
   ],
   "source": [
    "#acf(ABT_dependent_ts)\n",
    "#acf(preprocessed_data[,2])\n",
    "a = ABT_dependent\n",
    "sqrt(mean((diff(a$pre_44_CRPh_delta_LogitPD))^2))"
   ]
  },
  {
   "cell_type": "markdown",
   "metadata": {},
   "source": [
    "## Cross Correlation!"
   ]
  },
  {
   "cell_type": "markdown",
   "metadata": {},
   "source": [
    "#### Time series could be decomposed into three components. These three components are the trend cycle, the seasonal component and random component, which are denoted as T_t, S_t and R_t respectively, with the original time series denoted by Y_t. We could write the time series Y_t as a functon of these components:"
   ]
  },
  {
   "cell_type": "code",
   "execution_count": 64,
   "metadata": {},
   "outputs": [
    {
     "data": {
      "text/html": [
       "<ol class=list-inline>\n",
       "\t<li>0.499816117356054</li>\n",
       "\t<li>0.455577666916158</li>\n",
       "\t<li>0.406743687024358</li>\n",
       "\t<li>0.35334483129</li>\n",
       "\t<li>0.303395678907248</li>\n",
       "\t<li>0.258737245603261</li>\n",
       "\t<li>0.220664199862691</li>\n",
       "\t<li>0.190064174716455</li>\n",
       "\t<li>0.157684798941059</li>\n",
       "\t<li>0.131688663739394</li>\n",
       "\t<li>0.113550917103779</li>\n",
       "\t<li>0.0984464104315433</li>\n",
       "\t<li>0.0891431966811511</li>\n",
       "\t<li>0.0810703870394921</li>\n",
       "\t<li>0.0810351762794966</li>\n",
       "</ol>\n"
      ],
      "text/latex": [
       "\\begin{enumerate*}\n",
       "\\item 0.499816117356054\n",
       "\\item 0.455577666916158\n",
       "\\item 0.406743687024358\n",
       "\\item 0.35334483129\n",
       "\\item 0.303395678907248\n",
       "\\item 0.258737245603261\n",
       "\\item 0.220664199862691\n",
       "\\item 0.190064174716455\n",
       "\\item 0.157684798941059\n",
       "\\item 0.131688663739394\n",
       "\\item 0.113550917103779\n",
       "\\item 0.0984464104315433\n",
       "\\item 0.0891431966811511\n",
       "\\item 0.0810703870394921\n",
       "\\item 0.0810351762794966\n",
       "\\end{enumerate*}\n"
      ],
      "text/markdown": [
       "1. 0.499816117356054\n",
       "2. 0.455577666916158\n",
       "3. 0.406743687024358\n",
       "4. 0.35334483129\n",
       "5. 0.303395678907248\n",
       "6. 0.258737245603261\n",
       "7. 0.220664199862691\n",
       "8. 0.190064174716455\n",
       "9. 0.157684798941059\n",
       "10. 0.131688663739394\n",
       "11. 0.113550917103779\n",
       "12. 0.0984464104315433\n",
       "13. 0.0891431966811511\n",
       "14. 0.0810703870394921\n",
       "15. 0.0810351762794966\n",
       "\n",
       "\n"
      ],
      "text/plain": [
       ", , 1\n",
       "\n",
       "            [,1]\n",
       " [1,] 0.49981612\n",
       " [2,] 0.45557767\n",
       " [3,] 0.40674369\n",
       " [4,] 0.35334483\n",
       " [5,] 0.30339568\n",
       " [6,] 0.25873725\n",
       " [7,] 0.22066420\n",
       " [8,] 0.19006417\n",
       " [9,] 0.15768480\n",
       "[10,] 0.13168866\n",
       "[11,] 0.11355092\n",
       "[12,] 0.09844641\n",
       "[13,] 0.08914320\n",
       "[14,] 0.08107039\n",
       "[15,] 0.08103518\n"
      ]
     },
     "metadata": {},
     "output_type": "display_data"
    },
    {
     "data": {
      "text/plain": [
       "\n",
       "Autocorrelations of series 'X', by lag\n",
       "\n",
       "   -7    -6    -5    -4    -3    -2    -1     0     1     2     3     4     5 \n",
       "0.500 0.456 0.407 0.353 0.303 0.259 0.221 0.190 0.158 0.132 0.114 0.098 0.089 \n",
       "    6     7 \n",
       "0.081 0.081 "
      ]
     },
     "metadata": {},
     "output_type": "display_data"
    },
    {
     "data": {
      "image/png": "[encoded data removed]",
      "text/plain": [
       "Plot with title \"y & x_1\""
      ]
     },
     "metadata": {},
     "output_type": "display_data"
    }
   ],
   "source": [
    "# cross time series correlation function dependent vs variable1\n",
    "#y = ts(ABT_dependent,frequency = 4,start = c(2006,3) )\n",
    "#x_1 = ts(ABT_features$pre_155_EU_KEY_RATE,frequency = 4,start = c(2006,3) )\n",
    "y=ts(ABT_dependent$pre_44_CRPh_delta_LogitPD)\n",
    "x_1 = ts(ABT_features[,120])\n",
    "ccfvalues = ccf(y, x_1, lag.max = 7)\n",
    "#tail(sort(ccfvalues$acf, decreasing = F),3)\n",
    "abs(ccfvalues$acf)\n",
    "ccfvalues"
   ]
  },
  {
   "cell_type": "code",
   "execution_count": 368,
   "metadata": {},
   "outputs": [
    {
     "data": {
      "image/png": "[encoded data removed]",
      "text/plain": [
       "Plot with title \"y(t-3)\""
      ]
     },
     "metadata": {},
     "output_type": "display_data"
    }
   ],
   "source": [
    "lag2.plot(y,x_1, 3)"
   ]
  },
  {
   "cell_type": "code",
   "execution_count": 36,
   "metadata": {},
   "outputs": [
    {
     "data": {
      "text/plain": [
       "Time Series:\n",
       "Start = 1 \n",
       "End = 36 \n",
       "Frequency = 1 \n",
       " [1] 125.482 144.383 182.626 184.386 212.359 214.282 188.772 200.120 192.317\n",
       "[10] 199.918 194.213 182.794 160.548 163.214 163.190 147.702 132.789 149.320\n",
       "[19] 132.541 133.680 185.554 198.939 196.307 209.585 193.658 222.435 222.000\n",
       "[28] 236.307 178.686 124.382 151.107 263.237 285.278 343.957 424.259 463.288"
      ]
     },
     "metadata": {},
     "output_type": "display_data"
    }
   ],
   "source": [
    "x_1"
   ]
  },
  {
   "cell_type": "code",
   "execution_count": null,
   "metadata": {},
   "outputs": [],
   "source": []
  },
  {
   "cell_type": "code",
   "execution_count": null,
   "metadata": {},
   "outputs": [],
   "source": []
  },
  {
   "cell_type": "markdown",
   "metadata": {},
   "source": [
    "## Systematisch features auswählen und modellieren"
   ]
  },
  {
   "cell_type": "code",
   "execution_count": 59,
   "metadata": {},
   "outputs": [],
   "source": [
    "y=ts(ABT_dependent$pre_44_CRPh_delta_LogitPD)\n",
    "\n",
    "my_function = function(dependent_series, feature_series,i) {\n",
    "    x_1 = ts(diff(feature_series[,i]))\n",
    "    ccfvalues = ccf(diff(dependent_series), x_1, pl=FALSE, lag.max = 5)\n",
    "    temp = max(abs(ccfvalues$acf))\n",
    "    #temp2 = c(temp,i)\n",
    "    print(temp)\n",
    "#    return(c(temp,i))\n",
    "}\n",
    "\n",
    "\n"
   ]
  },
  {
   "cell_type": "code",
   "execution_count": 60,
   "metadata": {},
   "outputs": [
    {
     "name": "stdout",
     "output_type": "stream",
     "text": [
      "[1] 0.3830736\n",
      "[1] 0.3009212\n",
      "[1] 0.3587735\n",
      "[1] 0.4089432\n",
      "[1] 0.3911616\n",
      "[1] 0.3818053\n",
      "[1] 0.374028\n",
      "[1] 0.2606019\n",
      "[1] 0.3168842\n",
      "[1] 0.3272105\n",
      "[1] 0.1979067\n",
      "[1] 0.239764\n",
      "[1] 0.2412581\n",
      "[1] 0.1714946\n",
      "[1] 0.175516\n",
      "[1] 0.1691427\n",
      "[1] 0.1611249\n",
      "[1] 0.2451336\n",
      "[1] 0.1968543\n",
      "[1] 0.3233062\n",
      "[1] 0.3470119\n",
      "[1] 0.3642211\n",
      "[1] 0.3620693\n",
      "[1] 0.3538336\n",
      "[1] 0.3463805\n",
      "[1] 0.3490843\n",
      "[1] 0.3453169\n",
      "[1] 0.344309\n",
      "[1] 0.3440949\n",
      "[1] 0.3382844\n",
      "[1] 0.3384297\n",
      "[1] 0.3351709\n",
      "[1] 0.3268183\n",
      "[1] 0.322936\n",
      "[1] 0.3070117\n",
      "[1] 0.2986181\n",
      "[1] 0.2883052\n",
      "[1] 0.2794574\n",
      "[1] 0.2448567\n",
      "[1] 0.2216981\n",
      "[1] 0.1911146\n",
      "[1] 0.1661232\n",
      "[1] 0.1460802\n",
      "[1] 0.1316454\n",
      "[1] 0.1174709\n",
      "[1] 0.1074616\n",
      "[1] 0.3348743\n",
      "[1] 0.2863967\n",
      "[1] 0.2443075\n",
      "[1] 0.2074947\n",
      "[1] 0.1767625\n",
      "[1] 0.1539118\n",
      "[1] 0.1359386\n",
      "[1] 0.1227603\n",
      "[1] 0.1120096\n",
      "[1] 0.1025957\n",
      "[1] 0.08870212\n",
      "[1] 0.1111577\n",
      "[1] 0.1303751\n",
      "[1] 0.1390968\n",
      "[1] 0.1400988\n",
      "[1] 0.3097285\n",
      "[1] 0.2755881\n",
      "[1] 0.2375201\n",
      "[1] 0.2021439\n",
      "[1] 0.1731659\n",
      "[1] 0.1524699\n",
      "[1] 0.1337462\n",
      "[1] 0.1204727\n",
      "[1] 0.1093243\n",
      "[1] 0.09915754\n",
      "[1] 0.09115814\n",
      "[1] 0.09927564\n",
      "[1] 0.1212564\n",
      "[1] 0.1414334\n",
      "[1] 0.1495955\n",
      "[1] 0.1504109\n",
      "[1] 0.1447192\n",
      "[1] 0.1432659\n",
      "[1] 0.332626\n",
      "[1] 0.2824982\n",
      "[1] 0.2286895\n",
      "[1] 0.2025218\n",
      "[1] 0.1726957\n",
      "[1] 0.1497091\n",
      "[1] 0.1332385\n",
      "[1] 0.119816\n",
      "[1] 0.1089351\n",
      "[1] 0.09811981\n",
      "[1] 0.09830058\n",
      "[1] 0.1165958\n",
      "[1] 0.1410871\n",
      "[1] 0.1507153\n",
      "[1] 0.1501605\n",
      "[1] 0.1410715\n",
      "[1] 0.1394165\n",
      "[1] 0.1534625\n",
      "[1] 0.1488525\n",
      "[1] 0.1297664\n",
      "[1] 0.1086775\n",
      "[1] 0.09426078\n",
      "[1] 0.08864557\n",
      "[1] 0.09759198\n",
      "[1] 0.1051857\n",
      "[1] 0.1111342\n",
      "[1] 0.1192415\n",
      "[1] 0.1251352\n",
      "[1] 0.1354899\n",
      "[1] 0.1255054\n",
      "[1] 0.1153332\n",
      "[1] 0.1222043\n",
      "[1] 0.1705115\n",
      "[1] 0.212829\n",
      "[1] 0.2038215\n",
      "[1] 0.1058007\n",
      "[1] 0.1970834\n",
      "[1] 0.2394313\n",
      "[1] 0.1977916\n",
      "[1] 0.1142477\n",
      "[1] 0.1677263\n",
      "[1] 0.1887727\n",
      "[1] 0.2101506\n",
      "[1] 0.1113493\n",
      "[1] 0.1807819\n",
      "[1] 0.1854894\n",
      "[1] 0.1696155\n",
      "[1] 0.1173288\n",
      "[1] 0.2043342\n",
      "[1] 0.2190502\n",
      "[1] 0.2287049\n",
      "[1] 0.2759837\n",
      "[1] 0.16588\n",
      "[1] 0.1134204\n",
      "[1] 0.1385258\n",
      "[1] 0.1458214\n",
      "[1] 0.3139573\n",
      "[1] 0.2741423\n",
      "[1] 0.2389176\n",
      "[1] 0.1875938\n",
      "[1] 0.07121406\n",
      "[1] 0.1846791\n",
      "[1] 0.1820976\n",
      "[1] 0.1548425\n",
      "[1] 0.07701232\n",
      "[1] 0.2421424\n",
      "[1] 0.2043693\n",
      "[1] 0.2578161\n",
      "[1] 0.2844794\n",
      "[1] 0.1809734\n",
      "[1] 0.1094293\n",
      "[1] 0.2321589\n",
      "[1] 0.2049303\n",
      "[1] 0.1065214\n",
      "[1] 0.08579793\n",
      "[1] 0.1184534\n",
      "[1] 0.0874534\n",
      "[1] 0.1926799\n",
      "[1] 0.06903493\n",
      "[1] 0.1180617\n",
      "[1] 0.1327647\n",
      "[1] 0.1779912\n",
      "[1] 0.170963\n",
      "[1] 0.124563\n",
      "[1] 0.1355763\n",
      "[1] 0.09973899\n",
      "[1] 0.1430924\n",
      "[1] 0.07489389\n",
      "[1] 0.1475247\n",
      "[1] 0.1229426\n",
      "[1] 0.06823711\n",
      "[1] 0.1194532\n",
      "[1] 0.1385587\n",
      "[1] 0.1382495\n",
      "[1] 0.01972957\n",
      "[1] 0.1042697\n",
      "[1] 0.2553911\n",
      "[1] 0.2560229\n",
      "[1] 0.2748342\n",
      "[1] 0.3587705\n",
      "[1] 0.0755416\n",
      "[1] 0.6038145\n",
      "[1] 0.6210502\n",
      "[1] 0.5724158\n",
      "[1] 0.5802728\n",
      "[1] 0.1681786\n",
      "[1] 0.2500713\n",
      "[1] 0.2752956\n",
      "[1] 0.3746445\n",
      "[1] 0.177372\n",
      "[1] 0.2539084\n",
      "[1] 0.3340249\n",
      "[1] 0.5961135\n",
      "[1] 0.5788999\n",
      "[1] 0.1939931\n",
      "[1] 0.5278393\n",
      "[1] 0.1164734\n",
      "[1] 0.3715586\n",
      "[1] 0.278032\n",
      "[1] 0.2125912\n",
      "[1] 0.1683987\n",
      "[1] 0.1372804\n",
      "[1] 0.1143643\n",
      "[1] 0.09702514\n",
      "[1] 0.1052359\n",
      "[1] 0.1138647\n",
      "[1] 0.1262996\n",
      "[1] 0.3094202\n",
      "[1] 0.258855\n",
      "[1] 0.210799\n",
      "[1] 0.1747762\n",
      "[1] 0.1478042\n",
      "[1] 0.1271687\n",
      "[1] 0.1106309\n",
      "[1] 0.09645079\n",
      "[1] 0.1084123\n",
      "[1] 0.1259597\n",
      "[1] 0.3706194\n",
      "[1] 0.2366344\n",
      "[1] 0.1614607\n",
      "[1] 0.1312711\n",
      "[1] 0.1104375\n",
      "[1] 0.09361425\n",
      "[1] 0.08457224\n",
      "[1] 0.07205288\n",
      "[1] 0.05812614\n",
      "[1] 0.05173217\n",
      "[1] 0.0489537\n",
      "[1] 0.05061124\n",
      "[1] 0.04922901\n",
      "[1] 0.04698579\n",
      "[1] 0.04659269\n",
      "[1] 0.3458444\n",
      "[1] 0.261969\n",
      "[1] 0.2109156\n",
      "[1] 0.1734386\n",
      "[1] 0.1440338\n",
      "[1] 0.1173355\n",
      "[1] 0.09571117\n",
      "[1] 0.08255137\n",
      "[1] 0.0696741\n",
      "[1] 0.07971843\n",
      "[1] 0.1852476\n",
      "[1] 0.1339182\n",
      "[1] 0.1702396\n",
      "[1] 0.1277031\n",
      "[1] 0.1271081\n",
      "[1] 0.2292077\n",
      "[1] 0.2031862\n",
      "[1] 0.2266665\n",
      "[1] 0.2146518\n",
      "[1] 0.2150744\n",
      "[1] 0.1805107\n",
      "[1] 0.3099412\n",
      "[1] 0.2242294\n",
      "[1] 0.2551298\n",
      "[1] 0.2485306\n",
      "[1] 0.2410165\n",
      "[1] 0.2943697\n",
      "[1] 0.3122092\n",
      "[1] 0.254476\n",
      "[1] 0.1778242\n",
      "[1] 0.1731733\n",
      "[1] 0.175586\n",
      "[1] 0.1937746\n",
      "[1] 0.1743982\n",
      "[1] 0.08320765\n",
      "[1] 0.09501361\n",
      "[1] 0.09441349\n",
      "[1] 0.09348249\n",
      "[1] 0.08649156\n",
      "[1] 0.07662377\n",
      "[1] 0.1331175\n",
      "[1] 0.09243065\n",
      "[1] 0.1028387\n",
      "[1] 0.07987175\n",
      "[1] 0.03797684\n",
      "[1] 0.09765946\n",
      "[1] 0.0768635\n",
      "[1] 0.2406622\n",
      "[1] 0.1532516\n",
      "[1] 0.1881302\n",
      "[1] 0.173665\n",
      "[1] 0.1272829\n",
      "[1] 0.2048039\n",
      "[1] 0.20586\n",
      "[1] 0.2308541\n",
      "[1] 0.2189585\n",
      "[1] 0.2020009\n",
      "[1] 0.1780026\n",
      "[1] 0.1545717\n",
      "[1] 0.2187201\n",
      "[1] 0.2023074\n",
      "[1] 0.1765595\n",
      "[1] 0.1857192\n",
      "[1] 0.1765595\n",
      "[1] 0.1315574\n",
      "[1] 0.1875952\n",
      "[1] 0.1742858\n",
      "[1] 0.1276852\n",
      "[1] 0.1223612\n",
      "[1] 0.202567\n",
      "[1] 0.1843755\n",
      "[1] 0.1863502\n",
      "[1] 0.1920537\n",
      "[1] 0.18362\n",
      "[1] 0.1704963\n",
      "[1] 0.215338\n",
      "[1] 0.2039185\n",
      "[1] 0.1195287\n",
      "[1] 0.1101675\n",
      "[1] 0.1655006\n",
      "[1] 0.09642755\n",
      "[1] 0.1166582\n",
      "[1] 0.1032793\n",
      "[1] 0.09276312\n",
      "[1] 0.1294189\n",
      "[1] 0.2315585\n",
      "[1] 0.2343866\n",
      "[1] 0.1925648\n",
      "[1] 0.1868535\n",
      "[1] 0.1612272\n",
      "[1] 0.1772833\n",
      "[1] 0.1595301\n",
      "[1] 0.2241142\n",
      "[1] 0.2218608\n",
      "[1] 0.2078723\n",
      "[1] 0.2146431\n",
      "[1] 0.1969581\n",
      "[1] 0.2928869\n",
      "[1] 0.2152242\n",
      "[1] 0.1991594\n",
      "[1] 0.215723\n",
      "[1] 0.2056555\n",
      "[1] 0.254278\n",
      "[1] 0.2383241\n",
      "[1] 0.2807866\n",
      "[1] 0.2675976\n",
      "[1] 0.1835112\n",
      "[1] 0.1971351\n",
      "[1] 0.2237407\n",
      "[1] 0.1399137\n",
      "[1] 0.1116083\n",
      "[1] 0.2059184\n",
      "[1] 0.1947454\n",
      "[1] 0.2404691\n"
     ]
    }
   ],
   "source": [
    "max_cor = c()\n",
    "for (i in 1:345){\n",
    "    max_cor[i] = my_function(y,ABT_features,i)\n",
    "}\n"
   ]
  },
  {
   "cell_type": "code",
   "execution_count": 39,
   "metadata": {},
   "outputs": [
    {
     "data": {
      "text/html": [
       "<ol class=list-inline>\n",
       "\t<li>0.629791127922425</li>\n",
       "\t<li>0.628130873610488</li>\n",
       "\t<li>0.62343470371353</li>\n",
       "\t<li>0.619693686033463</li>\n",
       "\t<li>0.616829922344866</li>\n",
       "\t<li>0.616191924726877</li>\n",
       "\t<li>0.614153212023909</li>\n",
       "\t<li>0.611182229615934</li>\n",
       "\t<li>0.605898426531033</li>\n",
       "\t<li>0.605583556241077</li>\n",
       "</ol>\n"
      ],
      "text/latex": [
       "\\begin{enumerate*}\n",
       "\\item 0.629791127922425\n",
       "\\item 0.628130873610488\n",
       "\\item 0.62343470371353\n",
       "\\item 0.619693686033463\n",
       "\\item 0.616829922344866\n",
       "\\item 0.616191924726877\n",
       "\\item 0.614153212023909\n",
       "\\item 0.611182229615934\n",
       "\\item 0.605898426531033\n",
       "\\item 0.605583556241077\n",
       "\\end{enumerate*}\n"
      ],
      "text/markdown": [
       "1. 0.629791127922425\n",
       "2. 0.628130873610488\n",
       "3. 0.62343470371353\n",
       "4. 0.619693686033463\n",
       "5. 0.616829922344866\n",
       "6. 0.616191924726877\n",
       "7. 0.614153212023909\n",
       "8. 0.611182229615934\n",
       "9. 0.605898426531033\n",
       "10. 0.605583556241077\n",
       "\n",
       "\n"
      ],
      "text/plain": [
       " [1] 0.6297911 0.6281309 0.6234347 0.6196937 0.6168299 0.6161919 0.6141532\n",
       " [8] 0.6111822 0.6058984 0.6055836"
      ]
     },
     "metadata": {},
     "output_type": "display_data"
    },
    {
     "data": {
      "text/html": [
       "<ol class=list-inline>\n",
       "\t<li>120</li>\n",
       "\t<li>182</li>\n",
       "\t<li>258</li>\n",
       "\t<li>319</li>\n",
       "\t<li>320</li>\n",
       "</ol>\n"
      ],
      "text/latex": [
       "\\begin{enumerate*}\n",
       "\\item 120\n",
       "\\item 182\n",
       "\\item 258\n",
       "\\item 319\n",
       "\\item 320\n",
       "\\end{enumerate*}\n"
      ],
      "text/markdown": [
       "1. 120\n",
       "2. 182\n",
       "3. 258\n",
       "4. 319\n",
       "5. 320\n",
       "\n",
       "\n"
      ],
      "text/plain": [
       "[1] 120 182 258 319 320"
      ]
     },
     "metadata": {},
     "output_type": "display_data"
    }
   ],
   "source": [
    "temp = head(sort(max_cor, decreasing = T),10)\n",
    "temp\n",
    "which(max_cor %in% temp[1:5])\n"
   ]
  },
  {
   "cell_type": "code",
   "execution_count": 40,
   "metadata": {},
   "outputs": [
    {
     "data": {
      "text/html": [
       "'pre_494_S2SEB2E'"
      ],
      "text/latex": [
       "'pre\\_494\\_S2SEB2E'"
      ],
      "text/markdown": [
       "'pre_494_S2SEB2E'"
      ],
      "text/plain": [
       "[1] \"pre_494_S2SEB2E\""
      ]
     },
     "metadata": {},
     "output_type": "display_data"
    }
   ],
   "source": [
    "names(ABT_features)[326]"
   ]
  },
  {
   "cell_type": "code",
   "execution_count": 27,
   "metadata": {},
   "outputs": [
    {
     "ename": "ERROR",
     "evalue": "Error in eval(expr, envir, enclos): Objekt 'Bibliography' nicht gefunden\n",
     "output_type": "error",
     "traceback": [
      "Error in eval(expr, envir, enclos): Objekt 'Bibliography' nicht gefunden\nTraceback:\n"
     ]
    }
   ],
   "source": [
    "Bibliography\n",
    "#https://media.readthedocs.org/pdf/little-book-of-r-for-multivariate-analysis/latest/little-book-of-r-for-multivariate-analysis.pdf"
   ]
  }
 ],
 "metadata": {
  "kernelspec": {
   "display_name": "R 3.4",
   "language": "R",
   "name": "ir32"
  },
  "language_info": {
   "codemirror_mode": "r",
   "file_extension": ".r",
   "mimetype": "text/x-r-source",
   "name": "R",
   "pygments_lexer": "r",
   "version": "3.3.3"
  }
 },
 "nbformat": 4,
 "nbformat_minor": 2
}
